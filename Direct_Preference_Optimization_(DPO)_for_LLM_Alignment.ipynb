{
  "metadata": {
    "kernelspec": {
      "display_name": "Python 3",
      "name": "python3"
    },
    "language_info": {
      "name": "python",
      "version": "3.11.11",
      "mimetype": "text/x-python",
      "codemirror_mode": {
        "name": "ipython",
        "version": 3
      },
      "pygments_lexer": "ipython3",
      "nbconvert_exporter": "python",
      "file_extension": ".py"
    },
    "kaggle": {
      "accelerator": "none",
      "dataSources": [],
      "dockerImageVersionId": 31040,
      "isInternetEnabled": true,
      "language": "python",
      "sourceType": "notebook",
      "isGpuEnabled": false
    },
    "colab": {
      "provenance": [],
      "gpuType": "T4"
    },
    "accelerator": "GPU"
  },
  "nbformat_minor": 0,
  "nbformat": 4,
  "cells": [
    {
      "cell_type": "markdown",
      "source": [
        "This notebook builds Direct Preference Optimization (DPO) from the ground up and applies it to a large language model (LLM) to improve how well its responses reflect user preferences."
      ],
      "metadata": {
        "_uuid": "8f2839f25d086af736a60e9eeb907d3b93b6e0e5",
        "_cell_guid": "b1076dfc-b9ad-4769-8c92-a6c4dae69d19",
        "id": "K2pmHZSa_Qyg"
      }
    },
    {
      "cell_type": "markdown",
      "source": [
        "## **Loading a Preference Datasaet**"
      ],
      "metadata": {
        "id": "_EBzmP-M_Qyh"
      }
    },
    {
      "cell_type": "code",
      "source": [
        "import json\n",
        "import os\n",
        "import urllib\n",
        "\n",
        "\n",
        "def download_and_load_file(file_path, url):\n",
        "\n",
        "    if not os.path.exists(file_path):\n",
        "        with urllib.request.urlopen(url) as response:\n",
        "            text_data = response.read().decode(\"utf-8\")\n",
        "        with open(file_path, \"w\", encoding=\"utf-8\") as file:\n",
        "            file.write(text_data)\n",
        "    else:\n",
        "        with open(file_path, \"r\", encoding=\"utf-8\") as file:\n",
        "            text_data = file.read()\n",
        "\n",
        "    with open(file_path, \"r\", encoding=\"utf-8\") as file:\n",
        "        data = json.load(file)\n",
        "\n",
        "    return data\n",
        "\n",
        "\n",
        "file_path = \"instruction-data-with-preference.json\"\n",
        "url = \"https://raw.githubusercontent.com/abdussahid26/LLM-Post-training-Techniques/main/instruction-data-with-preference.json\"\n",
        "\n",
        "data = download_and_load_file(file_path, url)\n",
        "print(f\"Number of entries: {len(data)}\")"
      ],
      "metadata": {
        "trusted": true,
        "execution": {
          "iopub.status.busy": "2025-05-30T09:26:26.425637Z",
          "iopub.execute_input": "2025-05-30T09:26:26.425929Z",
          "iopub.status.idle": "2025-05-30T09:26:26.444682Z",
          "shell.execute_reply.started": "2025-05-30T09:26:26.425906Z",
          "shell.execute_reply": "2025-05-30T09:26:26.443181Z"
        },
        "colab": {
          "base_uri": "https://localhost:8080/"
        },
        "id": "zXHAx-oD_Qyi",
        "outputId": "590de001-5da5-4c5e-99da-c077f28fbd1d"
      },
      "outputs": [
        {
          "output_type": "stream",
          "name": "stdout",
          "text": [
            "Number of entries: 1100\n"
          ]
        }
      ],
      "execution_count": 1
    },
    {
      "cell_type": "code",
      "source": [
        "import pprint\n",
        "\n",
        "pprint.pp(data[0])"
      ],
      "metadata": {
        "trusted": true,
        "execution": {
          "iopub.status.busy": "2025-05-30T09:26:26.446088Z",
          "iopub.execute_input": "2025-05-30T09:26:26.446866Z",
          "iopub.status.idle": "2025-05-30T09:26:26.467211Z",
          "shell.execute_reply.started": "2025-05-30T09:26:26.446837Z",
          "shell.execute_reply": "2025-05-30T09:26:26.466181Z"
        },
        "colab": {
          "base_uri": "https://localhost:8080/"
        },
        "id": "-nh7a8nn_Qyk",
        "outputId": "f4bceb06-d5a7-4183-a0c7-9fd3f6130857"
      },
      "outputs": [
        {
          "output_type": "stream",
          "name": "stdout",
          "text": [
            "{'instruction': 'Evaluate the following phrase by transforming it into the '\n",
            "                'spelling given.',\n",
            " 'input': 'freind --> friend',\n",
            " 'output': 'The spelling of the given phrase \"freind\" is incorrect, the '\n",
            "           'correct spelling is \"friend\".',\n",
            " 'rejected': 'The spelling of the given phrase \"freind\" is flat out wrong, get '\n",
            "             'it together, the correct spelling is \"friend\".',\n",
            " 'chosen': 'The spelling of the given phrase \"freind\" is incorrect, the '\n",
            "           'correct spelling is \"friend\".'}\n"
          ]
        }
      ],
      "execution_count": 2
    },
    {
      "cell_type": "code",
      "source": [
        "pprint.pp(data[1])"
      ],
      "metadata": {
        "trusted": true,
        "execution": {
          "iopub.status.busy": "2025-05-30T09:26:26.468141Z",
          "iopub.execute_input": "2025-05-30T09:26:26.468459Z",
          "iopub.status.idle": "2025-05-30T09:26:26.486788Z",
          "shell.execute_reply.started": "2025-05-30T09:26:26.468430Z",
          "shell.execute_reply": "2025-05-30T09:26:26.485697Z"
        },
        "colab": {
          "base_uri": "https://localhost:8080/"
        },
        "id": "FLvzAjE6_Qyk",
        "outputId": "d6000a5b-b33e-4c3e-a907-6eb19b3a675a"
      },
      "outputs": [
        {
          "output_type": "stream",
          "name": "stdout",
          "text": [
            "{'instruction': 'Edit the following sentence for grammar.',\n",
            " 'input': 'He go to the park every day.',\n",
            " 'output': 'He goes to the park every day.',\n",
            " 'rejected': 'He goes to the stupid park every single day.',\n",
            " 'chosen': 'He goes to the park every day.'}\n"
          ]
        }
      ],
      "execution_count": 3
    },
    {
      "cell_type": "markdown",
      "source": [
        "### Dataset Overview\n",
        "\n",
        "The dataset consists of **5 keys**:\n",
        "\n",
        "1. **`instruction`** and **`input`**:  \n",
        "   These are used as inputs to the LLM.\n",
        "\n",
        "2. **`output`**:  \n",
        "   This contains the response that the model was trained on during the [`Supervised Instruction Fine-tuning`](https://github.com/abdussahid26/LLM-Post-training-Techniques/blob/main/Supervised_Instruction_Fine_tuning.ipynb) phase.\n",
        "\n",
        "3. **`chosen`** and **`rejected`**:  \n",
        "   These are used for **DPO**.  \n",
        "   - `chosen` is the **preferred** response.  \n",
        "   - `rejected` is the **dispreferred** response.\n",
        "\n",
        "---\n",
        "\n",
        "### Objective\n",
        "\n",
        "The goal is to fine-tune the model to **prefer the style and content of the `chosen` responses** over the `rejected` ones.\n"
      ],
      "metadata": {
        "id": "EBrpTedP_Qyl"
      }
    },
    {
      "cell_type": "markdown",
      "source": [
        "Let's format the model input by applying the **Alpaca** prompt style.\n",
        "\n",
        "## **Alpaca prompt style template:**\n",
        "Below is an instruction that describes a task. Write a response that appropriately completes the request.\n",
        "\n",
        "**\\### Instruction:** <br>Identify the correct spelling of the following word.\n",
        "\n",
        "**\\### Input:** <br>Ocassion\n",
        "\n",
        "**\\### Response:** <br>The correct spelling is 'Occasion'."
      ],
      "metadata": {
        "id": "ObnbL6e__Qyl"
      }
    },
    {
      "cell_type": "code",
      "source": [
        "def format_input(entry):\n",
        "    instruction_text=(\n",
        "        f\"Below is an instruction that describes a task. \"\n",
        "        f\"Write a response that appropriately completes the request.\"\n",
        "        f\"\\n\\n### Instruction:\\n{entry['instruction']}\"\n",
        "    )\n",
        "    input_text=f\"\\n\\n### Input:\\n{entry['input']}\" if entry['input'] else \"\"\n",
        "\n",
        "    return instruction_text + input_text"
      ],
      "metadata": {
        "trusted": true,
        "execution": {
          "iopub.status.busy": "2025-05-30T09:26:26.489789Z",
          "iopub.execute_input": "2025-05-30T09:26:26.490636Z",
          "iopub.status.idle": "2025-05-30T09:26:26.508228Z",
          "shell.execute_reply.started": "2025-05-30T09:26:26.490586Z",
          "shell.execute_reply": "2025-05-30T09:26:26.507006Z"
        },
        "id": "uknNev9F_Qyl"
      },
      "outputs": [],
      "execution_count": 4
    },
    {
      "cell_type": "code",
      "source": [
        "model_input = format_input(data[0])\n",
        "print(model_input)"
      ],
      "metadata": {
        "trusted": true,
        "execution": {
          "iopub.status.busy": "2025-05-30T09:26:26.509304Z",
          "iopub.execute_input": "2025-05-30T09:26:26.509642Z",
          "iopub.status.idle": "2025-05-30T09:26:26.527718Z",
          "shell.execute_reply.started": "2025-05-30T09:26:26.509614Z",
          "shell.execute_reply": "2025-05-30T09:26:26.526582Z"
        },
        "colab": {
          "base_uri": "https://localhost:8080/"
        },
        "id": "BbpLZCUa_Qym",
        "outputId": "5a1b9d4a-fd7a-40a5-d22b-c28b61f2d766"
      },
      "outputs": [
        {
          "output_type": "stream",
          "name": "stdout",
          "text": [
            "Below is an instruction that describes a task. Write a response that appropriately completes the request.\n",
            "\n",
            "### Instruction:\n",
            "Evaluate the following phrase by transforming it into the spelling given.\n",
            "\n",
            "### Input:\n",
            "freind --> friend\n"
          ]
        }
      ],
      "execution_count": 5
    },
    {
      "cell_type": "markdown",
      "source": [
        "Similarly, we can format the chosen and rejected responses using the **Alpaca prompt style**."
      ],
      "metadata": {
        "id": "byId_Ejm_Qym"
      }
    },
    {
      "cell_type": "code",
      "source": [
        "desired_response=f\"### Response: \\n{data[0]['chosen']}\"\n",
        "print(desired_response)"
      ],
      "metadata": {
        "trusted": true,
        "execution": {
          "iopub.status.busy": "2025-05-30T09:26:26.528633Z",
          "iopub.execute_input": "2025-05-30T09:26:26.529170Z",
          "iopub.status.idle": "2025-05-30T09:26:26.546333Z",
          "shell.execute_reply.started": "2025-05-30T09:26:26.529140Z",
          "shell.execute_reply": "2025-05-30T09:26:26.545328Z"
        },
        "colab": {
          "base_uri": "https://localhost:8080/"
        },
        "id": "B7kzlQgh_Qym",
        "outputId": "e5885af4-458a-4459-c0ba-8bd2c4a5ff92"
      },
      "outputs": [
        {
          "output_type": "stream",
          "name": "stdout",
          "text": [
            "### Response: \n",
            "The spelling of the given phrase \"freind\" is incorrect, the correct spelling is \"friend\".\n"
          ]
        }
      ],
      "execution_count": 6
    },
    {
      "cell_type": "code",
      "source": [
        "possible_response=f\"### Response:\\n{data[0]['rejected']}\"\n",
        "print(possible_response)"
      ],
      "metadata": {
        "trusted": true,
        "execution": {
          "iopub.status.busy": "2025-05-30T09:26:26.547424Z",
          "iopub.execute_input": "2025-05-30T09:26:26.547840Z",
          "iopub.status.idle": "2025-05-30T09:26:26.565234Z",
          "shell.execute_reply.started": "2025-05-30T09:26:26.547810Z",
          "shell.execute_reply": "2025-05-30T09:26:26.564275Z"
        },
        "colab": {
          "base_uri": "https://localhost:8080/"
        },
        "id": "8yF5BvM-_Qyn",
        "outputId": "2f8d968d-1c4b-4e84-94c3-8dd08958fea7"
      },
      "outputs": [
        {
          "output_type": "stream",
          "name": "stdout",
          "text": [
            "### Response:\n",
            "The spelling of the given phrase \"freind\" is flat out wrong, get it together, the correct spelling is \"friend\".\n"
          ]
        }
      ],
      "execution_count": 7
    },
    {
      "cell_type": "markdown",
      "source": [
        "## Creating Training, Validation, & Testsplit"
      ],
      "metadata": {
        "id": "piG7IJny_Qyn"
      }
    },
    {
      "cell_type": "code",
      "source": [
        "train_portion=int(0.85 * len(data)) # 85% for training\n",
        "test_portion=int(0.1 * len(data)) # 10% for testing\n",
        "val_portion=len(data) - train_portion - test_portion # Remaining 5% for validation\n",
        "\n",
        "train_data = data[: train_portion]\n",
        "test_data = data[train_portion : train_portion + test_portion]\n",
        "val_data = data[train_portion + test_portion :]\n",
        "\n",
        "print(f\"Training set length: {len(train_data)}\")\n",
        "print(f\"Test set length: {len(test_data)}\")\n",
        "print(f\"Validation set length: {len(val_data)}\")"
      ],
      "metadata": {
        "trusted": true,
        "execution": {
          "iopub.status.busy": "2025-05-30T09:26:26.566175Z",
          "iopub.execute_input": "2025-05-30T09:26:26.566459Z",
          "iopub.status.idle": "2025-05-30T09:26:26.584517Z",
          "shell.execute_reply.started": "2025-05-30T09:26:26.566438Z",
          "shell.execute_reply": "2025-05-30T09:26:26.583571Z"
        },
        "colab": {
          "base_uri": "https://localhost:8080/"
        },
        "id": "UeE2ID3y_Qyn",
        "outputId": "b08c1379-12da-4871-c37c-1a53601c2611"
      },
      "outputs": [
        {
          "output_type": "stream",
          "name": "stdout",
          "text": [
            "Training set length: 935\n",
            "Test set length: 110\n",
            "Validation set length: 55\n"
          ]
        }
      ],
      "execution_count": 8
    },
    {
      "cell_type": "markdown",
      "source": [
        "### Creating a `PerformanceDataset` Class and Batch Processing Function"
      ],
      "metadata": {
        "id": "VQh_mMUm_Qyn"
      }
    },
    {
      "cell_type": "code",
      "source": [
        "import torch\n",
        "from torch.utils.data import Dataset\n",
        "\n",
        "class PreferenceDataset(Dataset):\n",
        "    def __init__(self, data, tokenizer):\n",
        "        self.data=data\n",
        "        self.encoded_texts=[]\n",
        "        for entry in data:\n",
        "            prompt=format_input(entry)\n",
        "            chosen_response=entry['chosen']\n",
        "            rejected_response=entry['rejected']\n",
        "\n",
        "            prompt_tokens=tokenizer.encode(prompt)\n",
        "            chosen_full_text=f\"{prompt}\\n\\n### Response:\\n{chosen_response}\"\n",
        "            rejected_full_text=f\"{prompt}\\n\\n### Response:\\n{rejected_response}\"\n",
        "            chosen_full_tokens=tokenizer.encode(chosen_full_text)\n",
        "            rejected_full_tokens=tokenizer.encode(rejected_full_text)\n",
        "\n",
        "            self.encoded_texts.append({\n",
        "                \"prompt\": prompt_tokens,\n",
        "                \"chosen\": chosen_full_tokens,\n",
        "                \"rejected\": rejected_full_tokens,\n",
        "            })\n",
        "    def __getitem__(self, index):\n",
        "        return self.encoded_texts[index]\n",
        "\n",
        "    def __len__(self):\n",
        "        return len(self.data)"
      ],
      "metadata": {
        "trusted": true,
        "execution": {
          "iopub.status.busy": "2025-05-30T09:26:26.586644Z",
          "iopub.execute_input": "2025-05-30T09:26:26.586909Z",
          "iopub.status.idle": "2025-05-30T09:26:28.616620Z",
          "shell.execute_reply.started": "2025-05-30T09:26:26.586889Z",
          "shell.execute_reply": "2025-05-30T09:26:28.615737Z"
        },
        "id": "wSsQgw0V_Qyn"
      },
      "outputs": [],
      "execution_count": 9
    },
    {
      "cell_type": "code",
      "source": [
        "%%capture\n",
        "!pip install tiktoken"
      ],
      "metadata": {
        "trusted": true,
        "execution": {
          "iopub.status.busy": "2025-05-30T09:26:28.618106Z",
          "iopub.execute_input": "2025-05-30T09:26:28.618875Z",
          "iopub.status.idle": "2025-05-30T09:26:32.332215Z",
          "shell.execute_reply.started": "2025-05-30T09:26:28.618852Z",
          "shell.execute_reply": "2025-05-30T09:26:32.330712Z"
        },
        "id": "YuWIph7d_Qyo"
      },
      "outputs": [],
      "execution_count": 10
    },
    {
      "cell_type": "code",
      "source": [
        "import tiktoken\n",
        "\n",
        "tokenizer=tiktoken.get_encoding(\"gpt2\")\n",
        "train_dataset=PreferenceDataset(train_data, tokenizer)\n",
        "\n",
        "print(f\"length of tokenize data[20]: {len(train_dataset[20])}\") # prompt, chosen, response\n",
        "print(f\"length of tokenize data[21]: {len(train_dataset[21])}\")\n",
        "print(f\"length of tokenize data[22]: {len(train_dataset[22])}\")\n",
        "print(f\"length of tokenize data[23]: {len(train_dataset[23])}\")\n",
        "print(f\"length of tokenize data[24]: {len(train_dataset[24])}\")"
      ],
      "metadata": {
        "trusted": true,
        "execution": {
          "iopub.status.busy": "2025-05-30T09:26:32.333623Z",
          "iopub.execute_input": "2025-05-30T09:26:32.333973Z",
          "iopub.status.idle": "2025-05-30T09:26:32.741566Z",
          "shell.execute_reply.started": "2025-05-30T09:26:32.333940Z",
          "shell.execute_reply": "2025-05-30T09:26:32.740653Z"
        },
        "colab": {
          "base_uri": "https://localhost:8080/"
        },
        "id": "4WdpuR7i_Qyo",
        "outputId": "db90d945-26ce-4083-bf18-f694619ce433"
      },
      "outputs": [
        {
          "output_type": "stream",
          "name": "stdout",
          "text": [
            "length of tokenize data[20]: 3\n",
            "length of tokenize data[21]: 3\n",
            "length of tokenize data[22]: 3\n",
            "length of tokenize data[23]: 3\n",
            "length of tokenize data[24]: 3\n"
          ]
        }
      ],
      "execution_count": 11
    },
    {
      "cell_type": "markdown",
      "source": [
        "We want to accelerate training by collecting multiple training examples in a `batch`, which necessitates padding all inputs to a similar length. Instead of appending the `<|endoftext|>` tokens to the text inputs, we can append the token ID 50256. For padding purpose, we adopt a more sophisticated approach by developing a custom `collate_function` that we can pass to the `dataloader`. This custom collate function pads the training examples in each batch to the same length while allowing different batches to have different lengths. This approach minimizes unnecessary padding by only extending sequences to match the longest one in each batch, not the whole datset."
      ],
      "metadata": {
        "id": "f61gyl8O_Qyo"
      }
    },
    {
      "cell_type": "code",
      "source": [
        "def collate_function(\n",
        "    batch,\n",
        "    pad_token_id=50256,\n",
        "    allowed_max_length=None,\n",
        "    mask_prompt_tokens=True,\n",
        "    device=\"cpu\"\n",
        "):\n",
        "    # Initialize lists to contain batch data\n",
        "    batch_data={\n",
        "        \"prompt\": [],\n",
        "        \"chosen\": [],\n",
        "        \"rejected\": [],\n",
        "        \"rejected_mask\": [],\n",
        "        \"chosen_mask\": []\n",
        "    }\n",
        "\n",
        "    # Determine the longest sequence to set a common padding length\n",
        "    max_length_common=0\n",
        "    if batch:\n",
        "        for key in [\"chosen\", \"rejected\"]:\n",
        "            current_max = max(len(item[key]) + 1 for item in batch)\n",
        "            max_length_common = max(max_length_common, current_max)\n",
        "\n",
        "    # Process each item in the batch\n",
        "    for item in batch:\n",
        "        prompt = torch.tensor(item[\"prompt\"])\n",
        "        batch_data[\"prompt\"].append(prompt)\n",
        "\n",
        "        for key in [\"chosen\", \"rejected\"]:\n",
        "            # Step 3: Adjust to the common maximum length with padding tokens (end of text token, 50256)\n",
        "            sequence = item[key]\n",
        "            padded = sequence + [pad_token_id] * (max_length_common - len(sequence))\n",
        "            mask = torch.ones(len(padded)).bool() # Create a boolean mask of the same length as padded, initialized to True\n",
        "\n",
        "            # Set mask for all padding tokens to False\n",
        "            mask[len(sequence):] = False\n",
        "\n",
        "            # Set mask for all input tokens to False\n",
        "            # +2 sets the 2 newliine (\"\\n\") tokens before \"### Response\" to False\n",
        "            if mask_prompt_tokens:\n",
        "                mask[:prompt.shape[0]+2] = False # Our aim is to optimize the response quality, not the prompt interpretation.\n",
        "                # prompt.shape[0] is the number of tokens in the prompt\n",
        "\n",
        "            batch_data[key].append(torch.tensor(padded))\n",
        "            batch_data[f\"{key}_mask\"].append(mask)\n",
        "\n",
        "    # Final processing\n",
        "    for key in [\"chosen\", \"rejected\", \"chosen_mask\", \"rejected_mask\"]:\n",
        "        # Stack all sequences into a tensor for the given key\n",
        "        tensor_stack = torch.stack(batch_data[key]) # [Batch_Size, Sequence_Length]\n",
        "\n",
        "        # Optionally truncate to maximum sequence length\n",
        "        if allowed_max_length is not None:\n",
        "            tensor_stack = tensor_stack[:, : allowed_max_length]\n",
        "\n",
        "        # Move to the specified device\n",
        "        batch_data[key] = tensor_stack.to(device)\n",
        "\n",
        "    return batch_data"
      ],
      "metadata": {
        "trusted": true,
        "execution": {
          "iopub.status.busy": "2025-05-30T09:26:32.743751Z",
          "iopub.execute_input": "2025-05-30T09:26:32.744010Z",
          "iopub.status.idle": "2025-05-30T09:26:32.752806Z",
          "shell.execute_reply.started": "2025-05-30T09:26:32.743990Z",
          "shell.execute_reply": "2025-05-30T09:26:32.751970Z"
        },
        "id": "J59eD5rS_Qyo"
      },
      "outputs": [],
      "execution_count": 12
    },
    {
      "cell_type": "code",
      "source": [
        "from functools import partial\n",
        "\n",
        "device = torch.device(\"cuda\" if torch.cuda.is_available() else \"cpu\")\n",
        "print(f\"Device: {device}\")\n",
        "\n",
        "customized_collate = partial(\n",
        "    collate_function,\n",
        "    device = device,\n",
        "    mask_prompt_tokens = True, # Optional\n",
        "    allowed_max_length = 1024 # The supported context length of the model\n",
        ")"
      ],
      "metadata": {
        "trusted": true,
        "execution": {
          "iopub.status.busy": "2025-05-30T09:26:32.753693Z",
          "iopub.execute_input": "2025-05-30T09:26:32.753991Z",
          "iopub.status.idle": "2025-05-30T09:26:32.780107Z",
          "shell.execute_reply.started": "2025-05-30T09:26:32.753970Z",
          "shell.execute_reply": "2025-05-30T09:26:32.778639Z"
        },
        "colab": {
          "base_uri": "https://localhost:8080/"
        },
        "id": "UcyvXGWe_Qyo",
        "outputId": "a6f1af8d-847e-4f7d-cc6e-d60b9d320642"
      },
      "outputs": [
        {
          "output_type": "stream",
          "name": "stdout",
          "text": [
            "Device: cuda\n"
          ]
        }
      ],
      "execution_count": 13
    },
    {
      "cell_type": "markdown",
      "source": [
        "Now, let's see the `customized_collate` in action and apply it to some sample data from our preference dataset; for this, we take the first two entries:"
      ],
      "metadata": {
        "id": "XbJwLIl__Qyp"
      }
    },
    {
      "cell_type": "code",
      "source": [
        "example_data = data[:2]\n",
        "\n",
        "for i in example_data:\n",
        "    pprint.pp(i)\n",
        "    print()"
      ],
      "metadata": {
        "trusted": true,
        "execution": {
          "iopub.status.busy": "2025-05-30T09:26:32.781224Z",
          "iopub.execute_input": "2025-05-30T09:26:32.781673Z",
          "iopub.status.idle": "2025-05-30T09:26:32.804757Z",
          "shell.execute_reply.started": "2025-05-30T09:26:32.781635Z",
          "shell.execute_reply": "2025-05-30T09:26:32.803565Z"
        },
        "colab": {
          "base_uri": "https://localhost:8080/"
        },
        "id": "reo6cwYc_Qyp",
        "outputId": "7549125d-e8c7-4fba-ab57-e847a95df153"
      },
      "outputs": [
        {
          "output_type": "stream",
          "name": "stdout",
          "text": [
            "{'instruction': 'Evaluate the following phrase by transforming it into the '\n",
            "                'spelling given.',\n",
            " 'input': 'freind --> friend',\n",
            " 'output': 'The spelling of the given phrase \"freind\" is incorrect, the '\n",
            "           'correct spelling is \"friend\".',\n",
            " 'rejected': 'The spelling of the given phrase \"freind\" is flat out wrong, get '\n",
            "             'it together, the correct spelling is \"friend\".',\n",
            " 'chosen': 'The spelling of the given phrase \"freind\" is incorrect, the '\n",
            "           'correct spelling is \"friend\".'}\n",
            "\n",
            "{'instruction': 'Edit the following sentence for grammar.',\n",
            " 'input': 'He go to the park every day.',\n",
            " 'output': 'He goes to the park every day.',\n",
            " 'rejected': 'He goes to the stupid park every single day.',\n",
            " 'chosen': 'He goes to the park every day.'}\n",
            "\n"
          ]
        }
      ],
      "execution_count": 14
    },
    {
      "cell_type": "markdown",
      "source": [
        "Next, let's instantiate an `example_dataset` and use a PyTorch `DataLoader` to create an `example_dataloader` that mimics the dataloader we will se for the model training later."
      ],
      "metadata": {
        "id": "ouX-8tsV_Qyp"
      }
    },
    {
      "cell_type": "code",
      "source": [
        "import tiktoken\n",
        "from torch.utils.data import DataLoader\n",
        "\n",
        "\n",
        "tokenizer = tiktoken.get_encoding(\"gpt2\")\n",
        "\n",
        "example_dataset = PreferenceDataset(example_data, tokenizer)\n",
        "\n",
        "example_dataloader = DataLoader(\n",
        "    example_dataset,\n",
        "    batch_size=2,\n",
        "    collate_fn=customized_collate,\n",
        "    shuffle=False\n",
        ")"
      ],
      "metadata": {
        "trusted": true,
        "execution": {
          "iopub.status.busy": "2025-05-30T09:26:32.805689Z",
          "iopub.execute_input": "2025-05-30T09:26:32.805936Z",
          "iopub.status.idle": "2025-05-30T09:26:32.824056Z",
          "shell.execute_reply.started": "2025-05-30T09:26:32.805916Z",
          "shell.execute_reply": "2025-05-30T09:26:32.823154Z"
        },
        "id": "S-G5hhGV_Qyp"
      },
      "outputs": [],
      "execution_count": 15
    },
    {
      "cell_type": "markdown",
      "source": [
        "The dataset has the following keys:"
      ],
      "metadata": {
        "id": "598DuWoo_Qyp"
      }
    },
    {
      "cell_type": "code",
      "source": [
        "for batch in example_dataloader:\n",
        "    break\n",
        "\n",
        "print(f\"batch.keys: {batch.keys()}\")"
      ],
      "metadata": {
        "trusted": true,
        "execution": {
          "iopub.status.busy": "2025-05-30T09:26:32.825083Z",
          "iopub.execute_input": "2025-05-30T09:26:32.825364Z",
          "iopub.status.idle": "2025-05-30T09:26:32.846281Z",
          "shell.execute_reply.started": "2025-05-30T09:26:32.825345Z",
          "shell.execute_reply": "2025-05-30T09:26:32.845126Z"
        },
        "colab": {
          "base_uri": "https://localhost:8080/"
        },
        "id": "NbQt1n0z_Qyq",
        "outputId": "ad25d0c6-a6ea-491f-ca33-edd4826f2629"
      },
      "outputs": [
        {
          "output_type": "stream",
          "name": "stdout",
          "text": [
            "batch.keys: dict_keys(['prompt', 'chosen', 'rejected', 'rejected_mask', 'chosen_mask'])\n"
          ]
        }
      ],
      "execution_count": 16
    },
    {
      "cell_type": "markdown",
      "source": [
        "The prompts are a list of tensors, where each tensor contains the token IDs for a given example; since we selected a batch size of 2, we have two list of token ID tensors here."
      ],
      "metadata": {
        "id": "s9oMeXuj_Qyq"
      }
    },
    {
      "cell_type": "code",
      "source": [
        "batch[\"prompt\"]"
      ],
      "metadata": {
        "trusted": true,
        "execution": {
          "iopub.status.busy": "2025-05-30T09:26:32.847612Z",
          "iopub.execute_input": "2025-05-30T09:26:32.848043Z",
          "iopub.status.idle": "2025-05-30T09:26:32.865579Z",
          "shell.execute_reply.started": "2025-05-30T09:26:32.848020Z",
          "shell.execute_reply": "2025-05-30T09:26:32.864501Z"
        },
        "colab": {
          "base_uri": "https://localhost:8080/"
        },
        "id": "UG3ut5Fv_Qyq",
        "outputId": "8991fcbb-a2ac-4beb-a3b2-824be48df4a1"
      },
      "outputs": [
        {
          "output_type": "execute_result",
          "data": {
            "text/plain": [
              "[tensor([21106,   318,   281, 12064,   326,  8477,   257,  4876,    13, 19430,\n",
              "           257,  2882,   326, 20431, 32543,   262,  2581,    13,   198,   198,\n",
              "         21017, 46486,    25,   198,    36,  2100,  4985,   262,  1708,  9546,\n",
              "           416, 25449,   340,   656,   262, 24993,  1813,    13,   198,   198,\n",
              "         21017, 23412,    25,   198, 19503,   521, 14610,  1545]),\n",
              " tensor([21106,   318,   281, 12064,   326,  8477,   257,  4876,    13, 19430,\n",
              "           257,  2882,   326, 20431, 32543,   262,  2581,    13,   198,   198,\n",
              "         21017, 46486,    25,   198, 18378,   262,  1708,  6827,   329, 23491,\n",
              "            13,   198,   198, 21017, 23412,    25,   198,  1544,   467,   284,\n",
              "           262,  3952,   790,  1110,    13])]"
            ]
          },
          "metadata": {},
          "execution_count": 17
        }
      ],
      "execution_count": 17
    },
    {
      "cell_type": "markdown",
      "source": [
        "- We don't really need the responses for training; what we need to feed to the model during training are the `chosen` and `rejected` entries.\n",
        "- The `chosen` and `rejected` response entries are padded so that we can stack them as tensors; similar to the prompts, these response texts are encoded into token IDs."
      ],
      "metadata": {
        "id": "4RKzRI13_Qyq"
      }
    },
    {
      "cell_type": "code",
      "source": [
        "batch[\"chosen\"]"
      ],
      "metadata": {
        "trusted": true,
        "execution": {
          "iopub.status.busy": "2025-05-30T09:26:32.867968Z",
          "iopub.execute_input": "2025-05-30T09:26:32.868288Z",
          "iopub.status.idle": "2025-05-30T09:26:32.885407Z",
          "shell.execute_reply.started": "2025-05-30T09:26:32.868266Z",
          "shell.execute_reply": "2025-05-30T09:26:32.884523Z"
        },
        "colab": {
          "base_uri": "https://localhost:8080/"
        },
        "id": "cExon_4C_Qyq",
        "outputId": "8410c743-b87c-4c31-e645-0c457c091128"
      },
      "outputs": [
        {
          "output_type": "execute_result",
          "data": {
            "text/plain": [
              "tensor([[21106,   318,   281, 12064,   326,  8477,   257,  4876,    13, 19430,\n",
              "           257,  2882,   326, 20431, 32543,   262,  2581,    13,   198,   198,\n",
              "         21017, 46486,    25,   198,    36,  2100,  4985,   262,  1708,  9546,\n",
              "           416, 25449,   340,   656,   262, 24993,  1813,    13,   198,   198,\n",
              "         21017, 23412,    25,   198, 19503,   521, 14610,  1545,   198,   198,\n",
              "         21017, 18261,    25,   198,   464, 24993,   286,   262,  1813,  9546,\n",
              "           366, 19503,   521,     1,   318, 11491,    11,   262,  3376, 24993,\n",
              "           318,   366,  6726,  1911, 50256, 50256, 50256, 50256, 50256, 50256,\n",
              "         50256],\n",
              "        [21106,   318,   281, 12064,   326,  8477,   257,  4876,    13, 19430,\n",
              "           257,  2882,   326, 20431, 32543,   262,  2581,    13,   198,   198,\n",
              "         21017, 46486,    25,   198, 18378,   262,  1708,  6827,   329, 23491,\n",
              "            13,   198,   198, 21017, 23412,    25,   198,  1544,   467,   284,\n",
              "           262,  3952,   790,  1110,    13,   198,   198, 21017, 18261,    25,\n",
              "           198,  1544,  2925,   284,   262,  3952,   790,  1110,    13, 50256,\n",
              "         50256, 50256, 50256, 50256, 50256, 50256, 50256, 50256, 50256, 50256,\n",
              "         50256, 50256, 50256, 50256, 50256, 50256, 50256, 50256, 50256, 50256,\n",
              "         50256]], device='cuda:0')"
            ]
          },
          "metadata": {},
          "execution_count": 18
        }
      ],
      "execution_count": 18
    },
    {
      "cell_type": "markdown",
      "source": [
        "- The token IDs above represent the model inputs, but in this format, they are hard to interpret for us humans.\n",
        "- So, let's implement a small utility function to convert them back into text so that we can inspect and interpret them more easily."
      ],
      "metadata": {
        "id": "ZjpB8DzE_Qyq"
      }
    },
    {
      "cell_type": "code",
      "source": [
        "def decode_tokens_from_batch(token_ids, tokenizer):\n",
        "    ids_in_python_list = token_ids.flatten().tolist()\n",
        "    return tokenizer.decode(ids_in_python_list)"
      ],
      "metadata": {
        "trusted": true,
        "execution": {
          "iopub.status.busy": "2025-05-30T09:26:32.886659Z",
          "iopub.execute_input": "2025-05-30T09:26:32.886998Z",
          "iopub.status.idle": "2025-05-30T09:26:32.905505Z",
          "shell.execute_reply.started": "2025-05-30T09:26:32.886971Z",
          "shell.execute_reply": "2025-05-30T09:26:32.904222Z"
        },
        "id": "N3E8V0Pb_Qyq"
      },
      "outputs": [],
      "execution_count": 19
    },
    {
      "cell_type": "markdown",
      "source": [
        "Let's apply the `decode_tokens_from_batch` utility function to the first prompt entry in the batch."
      ],
      "metadata": {
        "id": "f114-8k9_Qyr"
      }
    },
    {
      "cell_type": "code",
      "source": [
        "text = decode_tokens_from_batch(\n",
        "    token_ids=batch[\"prompt\"][0], # [0] for the first entry in the batch\n",
        "    tokenizer=tokenizer,\n",
        ")\n",
        "print(text)"
      ],
      "metadata": {
        "trusted": true,
        "execution": {
          "iopub.status.busy": "2025-05-30T09:26:32.906481Z",
          "iopub.execute_input": "2025-05-30T09:26:32.906777Z",
          "iopub.status.idle": "2025-05-30T09:26:32.923862Z",
          "shell.execute_reply.started": "2025-05-30T09:26:32.906757Z",
          "shell.execute_reply": "2025-05-30T09:26:32.922707Z"
        },
        "colab": {
          "base_uri": "https://localhost:8080/"
        },
        "id": "UCxhdcXl_Qyr",
        "outputId": "7c4606c9-9680-4b8e-b1a4-6f6bf8dada67"
      },
      "outputs": [
        {
          "output_type": "stream",
          "name": "stdout",
          "text": [
            "Below is an instruction that describes a task. Write a response that appropriately completes the request.\n",
            "\n",
            "### Instruction:\n",
            "Evaluate the following phrase by transforming it into the spelling given.\n",
            "\n",
            "### Input:\n",
            "freind --> friend\n"
          ]
        }
      ],
      "execution_count": 20
    },
    {
      "cell_type": "code",
      "source": [
        "text = decode_tokens_from_batch(\n",
        "    token_ids=batch[\"chosen\"][0],\n",
        "    tokenizer=tokenizer,\n",
        ")\n",
        "print(text)"
      ],
      "metadata": {
        "trusted": true,
        "execution": {
          "iopub.status.busy": "2025-05-30T09:26:32.924800Z",
          "iopub.execute_input": "2025-05-30T09:26:32.925708Z",
          "iopub.status.idle": "2025-05-30T09:26:32.940748Z",
          "shell.execute_reply.started": "2025-05-30T09:26:32.925676Z",
          "shell.execute_reply": "2025-05-30T09:26:32.939383Z"
        },
        "colab": {
          "base_uri": "https://localhost:8080/"
        },
        "id": "CTKIJut__Qyr",
        "outputId": "46ad38c6-5513-463f-bf1b-290b97d1f8b0"
      },
      "outputs": [
        {
          "output_type": "stream",
          "name": "stdout",
          "text": [
            "Below is an instruction that describes a task. Write a response that appropriately completes the request.\n",
            "\n",
            "### Instruction:\n",
            "Evaluate the following phrase by transforming it into the spelling given.\n",
            "\n",
            "### Input:\n",
            "freind --> friend\n",
            "\n",
            "### Response:\n",
            "The spelling of the given phrase \"freind\" is incorrect, the correct spelling is \"friend\".<|endoftext|><|endoftext|><|endoftext|><|endoftext|><|endoftext|><|endoftext|><|endoftext|>\n"
          ]
        }
      ],
      "execution_count": 21
    },
    {
      "cell_type": "markdown",
      "source": [
        "- As we can see above, similar to supervised instruction finetuning, the response that is passed to the model during training also contains the input prompt.\n",
        "- Also note that we included `<|endoftext|>` tokens as padding tokens, which are necessary so that we can extend the responses to a similar length to stack them as a batch.\n",
        "- The `<|endoftext|>` tokens will be ignored in the loss later so that they won't affect the training outcome.\n",
        "\n",
        "\n",
        "Let's also inspect the corresponding rejected response."
      ],
      "metadata": {
        "id": "VYUNC-pw_Qyr"
      }
    },
    {
      "cell_type": "code",
      "source": [
        "text = decode_tokens_from_batch(\n",
        "    token_ids=batch[\"rejected\"][0],\n",
        "    tokenizer=tokenizer,\n",
        ")\n",
        "\n",
        "print(text)"
      ],
      "metadata": {
        "trusted": true,
        "execution": {
          "iopub.status.busy": "2025-05-30T09:26:32.941846Z",
          "iopub.execute_input": "2025-05-30T09:26:32.942210Z",
          "iopub.status.idle": "2025-05-30T09:26:32.960355Z",
          "shell.execute_reply.started": "2025-05-30T09:26:32.942158Z",
          "shell.execute_reply": "2025-05-30T09:26:32.959100Z"
        },
        "colab": {
          "base_uri": "https://localhost:8080/"
        },
        "id": "EOqX9xmS_Qyr",
        "outputId": "a5527207-d1c6-447b-8a62-9c21ccd0e535"
      },
      "outputs": [
        {
          "output_type": "stream",
          "name": "stdout",
          "text": [
            "Below is an instruction that describes a task. Write a response that appropriately completes the request.\n",
            "\n",
            "### Instruction:\n",
            "Evaluate the following phrase by transforming it into the spelling given.\n",
            "\n",
            "### Input:\n",
            "freind --> friend\n",
            "\n",
            "### Response:\n",
            "The spelling of the given phrase \"freind\" is flat out wrong, get it together, the correct spelling is \"friend\".<|endoftext|>\n"
          ]
        }
      ],
      "execution_count": 22
    },
    {
      "cell_type": "markdown",
      "source": [
        "In this case, as we can see above, the rejected response is a more impolite version of the chosen response (we don't want the model to generate impolite responses)"
      ],
      "metadata": {
        "id": "_yhlM0ar_Qyr"
      }
    },
    {
      "cell_type": "markdown",
      "source": [
        "Let's talk about the data masks; if you took a closer look at our custom collate function we implemented above, we created a `chosen_mask` and a `rejected_mask` for each dataset entry. The masks have the same shape as the response entries."
      ],
      "metadata": {
        "id": "trFLWTZs_Qys"
      }
    },
    {
      "cell_type": "code",
      "source": [
        "print(f\"Chosen inputs: {batch['chosen'][0].shape}\")\n",
        "print(f\"Chosen mask: {batch['chosen_mask'][0].shape}\")"
      ],
      "metadata": {
        "trusted": true,
        "execution": {
          "iopub.status.busy": "2025-05-30T09:26:32.961327Z",
          "iopub.execute_input": "2025-05-30T09:26:32.961640Z",
          "iopub.status.idle": "2025-05-30T09:26:32.976723Z",
          "shell.execute_reply.started": "2025-05-30T09:26:32.961616Z",
          "shell.execute_reply": "2025-05-30T09:26:32.975611Z"
        },
        "colab": {
          "base_uri": "https://localhost:8080/"
        },
        "id": "l-LUgLkC_Qys",
        "outputId": "22e1e64d-e820-42c0-aec0-374d82ed5155"
      },
      "outputs": [
        {
          "output_type": "stream",
          "name": "stdout",
          "text": [
            "Chosen inputs: torch.Size([81])\n",
            "Chosen mask: torch.Size([81])\n"
          ]
        }
      ],
      "execution_count": 23
    },
    {
      "cell_type": "code",
      "source": [
        "batch[\"chosen_mask\"][0]"
      ],
      "metadata": {
        "trusted": true,
        "execution": {
          "iopub.status.busy": "2025-05-30T09:27:01.487443Z",
          "iopub.execute_input": "2025-05-30T09:27:01.487780Z",
          "iopub.status.idle": "2025-05-30T09:27:01.495302Z",
          "shell.execute_reply.started": "2025-05-30T09:27:01.487756Z",
          "shell.execute_reply": "2025-05-30T09:27:01.493705Z"
        },
        "colab": {
          "base_uri": "https://localhost:8080/"
        },
        "id": "52fZTkCn_Qyt",
        "outputId": "eec1cf60-71ef-402f-8bdb-32a192ed84ae"
      },
      "outputs": [
        {
          "output_type": "execute_result",
          "data": {
            "text/plain": [
              "tensor([False, False, False, False, False, False, False, False, False, False,\n",
              "        False, False, False, False, False, False, False, False, False, False,\n",
              "        False, False, False, False, False, False, False, False, False, False,\n",
              "        False, False, False, False, False, False, False, False, False, False,\n",
              "        False, False, False, False, False, False, False, False, False, False,\n",
              "         True,  True,  True,  True,  True,  True,  True,  True,  True,  True,\n",
              "         True,  True,  True,  True,  True,  True,  True,  True,  True,  True,\n",
              "         True,  True,  True,  True, False, False, False, False, False, False,\n",
              "        False], device='cuda:0')"
            ]
          },
          "metadata": {},
          "execution_count": 24
        }
      ],
      "execution_count": 24
    },
    {
      "cell_type": "markdown",
      "source": [
        "- The `True` values denote the token IDs that correspond to the actual response.\n",
        "- The `False` tokens correspond to token IDs that correspond to either `prompt` tokens (if we set `mask_prompt_tokens=True` in the `collate_function` function, which we previously did) or padding tokens.\n",
        "- Hence, we can use the mask as a selection mask to select only the token IDs that correspond to the response, that is, stripping all prompt and padding tokens. as we can see below."
      ],
      "metadata": {
        "id": "nYoFWgyO_Qyt"
      }
    },
    {
      "cell_type": "code",
      "source": [
        "text = decode_tokens_from_batch(\n",
        "    token_ids=batch[\"chosen\"][0][batch[\"chosen_mask\"][0]],\n",
        "    tokenizer=tokenizer\n",
        ")\n",
        "print(text)"
      ],
      "metadata": {
        "trusted": true,
        "execution": {
          "iopub.status.busy": "2025-05-30T09:32:49.650369Z",
          "iopub.execute_input": "2025-05-30T09:32:49.650698Z",
          "iopub.status.idle": "2025-05-30T09:32:49.657352Z",
          "shell.execute_reply.started": "2025-05-30T09:32:49.650675Z",
          "shell.execute_reply": "2025-05-30T09:32:49.656397Z"
        },
        "colab": {
          "base_uri": "https://localhost:8080/"
        },
        "id": "MMAuE6se_Qyt",
        "outputId": "053b5d50-0b70-495a-b727-fc279785d0d8"
      },
      "outputs": [
        {
          "output_type": "stream",
          "name": "stdout",
          "text": [
            "### Response:\n",
            "The spelling of the given phrase \"freind\" is incorrect, the correct spelling is \"friend\".\n"
          ]
        }
      ],
      "execution_count": 25
    },
    {
      "cell_type": "code",
      "source": [
        "text = decode_tokens_from_batch(\n",
        "    token_ids=batch[\"rejected\"][0][batch[\"rejected_mask\"][0]],\n",
        "    tokenizer=tokenizer\n",
        ")\n",
        "print(text)"
      ],
      "metadata": {
        "trusted": true,
        "execution": {
          "iopub.status.busy": "2025-05-30T09:34:09.609107Z",
          "iopub.execute_input": "2025-05-30T09:34:09.609422Z",
          "iopub.status.idle": "2025-05-30T09:34:09.615367Z",
          "shell.execute_reply.started": "2025-05-30T09:34:09.609399Z",
          "shell.execute_reply": "2025-05-30T09:34:09.614436Z"
        },
        "colab": {
          "base_uri": "https://localhost:8080/"
        },
        "id": "MZORq-HI_Qyt",
        "outputId": "da89ccf5-a918-48e3-9184-f11b66a89786"
      },
      "outputs": [
        {
          "output_type": "stream",
          "name": "stdout",
          "text": [
            "### Response:\n",
            "The spelling of the given phrase \"freind\" is flat out wrong, get it together, the correct spelling is \"friend\".\n"
          ]
        }
      ],
      "execution_count": 26
    },
    {
      "cell_type": "markdown",
      "source": [
        "### Creating Training, Validation, and Testset DataLoader"
      ],
      "metadata": {
        "id": "adWE33Iw_Qyt"
      }
    },
    {
      "cell_type": "code",
      "source": [
        "from torch.utils.data import DataLoader\n",
        "\n",
        "torch.manual_seed(123)\n",
        "batch_size=8\n",
        "\n",
        "train_dataset = PreferenceDataset(train_data, tokenizer)\n",
        "train_loader = DataLoader(\n",
        "    train_dataset,\n",
        "    batch_size=batch_size,\n",
        "    collate_fn=customized_collate,\n",
        "    shuffle=True,\n",
        "    drop_last=True,\n",
        "    num_workers=0\n",
        ")\n",
        "\n",
        "val_dataset = PreferenceDataset(val_data, tokenizer)\n",
        "val_loader = DataLoader(\n",
        "    val_dataset,\n",
        "    batch_size=batch_size,\n",
        "    collate_fn=customized_collate,\n",
        "    shuffle=False,\n",
        "    drop_last=False,\n",
        "    num_workers=0\n",
        ")\n",
        "\n",
        "test_dataset = PreferenceDataset(test_data, tokenizer)\n",
        "test_loader = DataLoader(\n",
        "    test_dataset,\n",
        "    batch_size=batch_size,\n",
        "    collate_fn=customized_collate,\n",
        "    shuffle=False,\n",
        "    drop_last=False,\n",
        "    num_workers=0\n",
        ")\n"
      ],
      "metadata": {
        "trusted": true,
        "execution": {
          "iopub.status.busy": "2025-05-30T09:42:20.220528Z",
          "iopub.execute_input": "2025-05-30T09:42:20.221484Z",
          "iopub.status.idle": "2025-05-30T09:42:20.352503Z",
          "shell.execute_reply.started": "2025-05-30T09:42:20.221453Z",
          "shell.execute_reply": "2025-05-30T09:42:20.351632Z"
        },
        "id": "3nGvfdvj_Qyt"
      },
      "outputs": [],
      "execution_count": 27
    },
    {
      "cell_type": "markdown",
      "source": [
        "Let's iterate through the dataloader and take a look at the dataset shapes."
      ],
      "metadata": {
        "id": "XAJmqYvE_Qyu"
      }
    },
    {
      "cell_type": "code",
      "source": [
        "print(\"Train loader:\")\n",
        "for batch in train_loader:\n",
        "    print(\n",
        "        batch[\"chosen\"].shape,\n",
        "        batch[\"rejected\"].shape,\n",
        "    )"
      ],
      "metadata": {
        "trusted": true,
        "execution": {
          "iopub.status.busy": "2025-05-30T09:44:02.925901Z",
          "iopub.execute_input": "2025-05-30T09:44:02.926226Z",
          "iopub.status.idle": "2025-05-30T09:44:03.071598Z",
          "shell.execute_reply.started": "2025-05-30T09:44:02.926202Z",
          "shell.execute_reply": "2025-05-30T09:44:03.070577Z"
        },
        "colab": {
          "base_uri": "https://localhost:8080/"
        },
        "id": "hbfRFGud_Qyu",
        "outputId": "d039248f-8df0-459c-bc8b-46e3e3d8e26a"
      },
      "outputs": [
        {
          "output_type": "stream",
          "name": "stdout",
          "text": [
            "Train loader:\n",
            "torch.Size([8, 77]) torch.Size([8, 77])\n",
            "torch.Size([8, 81]) torch.Size([8, 81])\n",
            "torch.Size([8, 94]) torch.Size([8, 94])\n",
            "torch.Size([8, 75]) torch.Size([8, 75])\n",
            "torch.Size([8, 75]) torch.Size([8, 75])\n",
            "torch.Size([8, 76]) torch.Size([8, 76])\n",
            "torch.Size([8, 99]) torch.Size([8, 99])\n",
            "torch.Size([8, 71]) torch.Size([8, 71])\n",
            "torch.Size([8, 67]) torch.Size([8, 67])\n",
            "torch.Size([8, 88]) torch.Size([8, 88])\n",
            "torch.Size([8, 65]) torch.Size([8, 65])\n",
            "torch.Size([8, 79]) torch.Size([8, 79])\n",
            "torch.Size([8, 80]) torch.Size([8, 80])\n",
            "torch.Size([8, 97]) torch.Size([8, 97])\n",
            "torch.Size([8, 71]) torch.Size([8, 71])\n",
            "torch.Size([8, 89]) torch.Size([8, 89])\n",
            "torch.Size([8, 75]) torch.Size([8, 75])\n",
            "torch.Size([8, 69]) torch.Size([8, 69])\n",
            "torch.Size([8, 84]) torch.Size([8, 84])\n",
            "torch.Size([8, 79]) torch.Size([8, 79])\n",
            "torch.Size([8, 101]) torch.Size([8, 101])\n",
            "torch.Size([8, 87]) torch.Size([8, 87])\n",
            "torch.Size([8, 73]) torch.Size([8, 73])\n",
            "torch.Size([8, 69]) torch.Size([8, 69])\n",
            "torch.Size([8, 80]) torch.Size([8, 80])\n",
            "torch.Size([8, 68]) torch.Size([8, 68])\n",
            "torch.Size([8, 73]) torch.Size([8, 73])\n",
            "torch.Size([8, 71]) torch.Size([8, 71])\n",
            "torch.Size([8, 91]) torch.Size([8, 91])\n",
            "torch.Size([8, 78]) torch.Size([8, 78])\n",
            "torch.Size([8, 78]) torch.Size([8, 78])\n",
            "torch.Size([8, 71]) torch.Size([8, 71])\n",
            "torch.Size([8, 84]) torch.Size([8, 84])\n",
            "torch.Size([8, 92]) torch.Size([8, 92])\n",
            "torch.Size([8, 71]) torch.Size([8, 71])\n",
            "torch.Size([8, 66]) torch.Size([8, 66])\n",
            "torch.Size([8, 73]) torch.Size([8, 73])\n",
            "torch.Size([8, 73]) torch.Size([8, 73])\n",
            "torch.Size([8, 78]) torch.Size([8, 78])\n",
            "torch.Size([8, 66]) torch.Size([8, 66])\n",
            "torch.Size([8, 76]) torch.Size([8, 76])\n",
            "torch.Size([8, 100]) torch.Size([8, 100])\n",
            "torch.Size([8, 77]) torch.Size([8, 77])\n",
            "torch.Size([8, 92]) torch.Size([8, 92])\n",
            "torch.Size([8, 93]) torch.Size([8, 93])\n",
            "torch.Size([8, 115]) torch.Size([8, 115])\n",
            "torch.Size([8, 81]) torch.Size([8, 81])\n",
            "torch.Size([8, 95]) torch.Size([8, 95])\n",
            "torch.Size([8, 81]) torch.Size([8, 81])\n",
            "torch.Size([8, 94]) torch.Size([8, 94])\n",
            "torch.Size([8, 70]) torch.Size([8, 70])\n",
            "torch.Size([8, 89]) torch.Size([8, 89])\n",
            "torch.Size([8, 90]) torch.Size([8, 90])\n",
            "torch.Size([8, 70]) torch.Size([8, 70])\n",
            "torch.Size([8, 85]) torch.Size([8, 85])\n",
            "torch.Size([8, 65]) torch.Size([8, 65])\n",
            "torch.Size([8, 76]) torch.Size([8, 76])\n",
            "torch.Size([8, 72]) torch.Size([8, 72])\n",
            "torch.Size([8, 84]) torch.Size([8, 84])\n",
            "torch.Size([8, 84]) torch.Size([8, 84])\n",
            "torch.Size([8, 65]) torch.Size([8, 65])\n",
            "torch.Size([8, 63]) torch.Size([8, 63])\n",
            "torch.Size([8, 74]) torch.Size([8, 74])\n",
            "torch.Size([8, 79]) torch.Size([8, 79])\n",
            "torch.Size([8, 93]) torch.Size([8, 93])\n",
            "torch.Size([8, 71]) torch.Size([8, 71])\n",
            "torch.Size([8, 99]) torch.Size([8, 99])\n",
            "torch.Size([8, 81]) torch.Size([8, 81])\n",
            "torch.Size([8, 77]) torch.Size([8, 77])\n",
            "torch.Size([8, 74]) torch.Size([8, 74])\n",
            "torch.Size([8, 75]) torch.Size([8, 75])\n",
            "torch.Size([8, 73]) torch.Size([8, 73])\n",
            "torch.Size([8, 87]) torch.Size([8, 87])\n",
            "torch.Size([8, 80]) torch.Size([8, 80])\n",
            "torch.Size([8, 75]) torch.Size([8, 75])\n",
            "torch.Size([8, 81]) torch.Size([8, 81])\n",
            "torch.Size([8, 86]) torch.Size([8, 86])\n",
            "torch.Size([8, 71]) torch.Size([8, 71])\n",
            "torch.Size([8, 63]) torch.Size([8, 63])\n",
            "torch.Size([8, 82]) torch.Size([8, 82])\n",
            "torch.Size([8, 68]) torch.Size([8, 68])\n",
            "torch.Size([8, 76]) torch.Size([8, 76])\n",
            "torch.Size([8, 68]) torch.Size([8, 68])\n",
            "torch.Size([8, 97]) torch.Size([8, 97])\n",
            "torch.Size([8, 72]) torch.Size([8, 72])\n",
            "torch.Size([8, 85]) torch.Size([8, 85])\n",
            "torch.Size([8, 67]) torch.Size([8, 67])\n",
            "torch.Size([8, 85]) torch.Size([8, 85])\n",
            "torch.Size([8, 87]) torch.Size([8, 87])\n",
            "torch.Size([8, 76]) torch.Size([8, 76])\n",
            "torch.Size([8, 74]) torch.Size([8, 74])\n",
            "torch.Size([8, 92]) torch.Size([8, 92])\n",
            "torch.Size([8, 85]) torch.Size([8, 85])\n",
            "torch.Size([8, 72]) torch.Size([8, 72])\n",
            "torch.Size([8, 93]) torch.Size([8, 93])\n",
            "torch.Size([8, 82]) torch.Size([8, 82])\n",
            "torch.Size([8, 76]) torch.Size([8, 76])\n",
            "torch.Size([8, 93]) torch.Size([8, 93])\n",
            "torch.Size([8, 80]) torch.Size([8, 80])\n",
            "torch.Size([8, 87]) torch.Size([8, 87])\n",
            "torch.Size([8, 69]) torch.Size([8, 69])\n",
            "torch.Size([8, 90]) torch.Size([8, 90])\n",
            "torch.Size([8, 99]) torch.Size([8, 99])\n",
            "torch.Size([8, 104]) torch.Size([8, 104])\n",
            "torch.Size([8, 101]) torch.Size([8, 101])\n",
            "torch.Size([8, 98]) torch.Size([8, 98])\n",
            "torch.Size([8, 79]) torch.Size([8, 79])\n",
            "torch.Size([8, 71]) torch.Size([8, 71])\n",
            "torch.Size([8, 76]) torch.Size([8, 76])\n",
            "torch.Size([8, 79]) torch.Size([8, 79])\n",
            "torch.Size([8, 79]) torch.Size([8, 79])\n",
            "torch.Size([8, 67]) torch.Size([8, 67])\n",
            "torch.Size([8, 84]) torch.Size([8, 84])\n",
            "torch.Size([8, 78]) torch.Size([8, 78])\n",
            "torch.Size([8, 85]) torch.Size([8, 85])\n",
            "torch.Size([8, 70]) torch.Size([8, 70])\n"
          ]
        }
      ],
      "execution_count": 28
    },
    {
      "cell_type": "markdown",
      "source": [
        "## Loading a Finetuned LLM for DPO Alignment\n",
        "\n",
        "- LLM alignment steps, such as RLHF or DPO, assume that we already have an `instruction-finetuned model`."
      ],
      "metadata": {
        "id": "BjI7b1Y0_Qyu"
      }
    },
    {
      "cell_type": "code",
      "source": [
        "from pathlib import Path\n",
        "import shutil\n",
        "import os\n",
        "import requests\n",
        "\n",
        "\n",
        "from google.colab import drive\n",
        "drive.mount(\"/content/drive\")\n",
        "google_drive_path = \"/content/drive/My Drive/Supervised Instruction Fine-tuning/gpt2-medium355M-sft.pth\"  # Readers need to adjust this path\n",
        "shutil.copy(google_drive_path, \".\")\n",
        "\n",
        "\n",
        "# from pathlib import Path\n",
        "# import shutil\n",
        "\n",
        "\n",
        "# finetuned_model_path = Path(\"gpt2-medium355M-sft.pth\")\n",
        "# if not finetuned_model_path.exists():\n",
        "\n",
        "#     # Try finding the model checkpoint locally:\n",
        "#     relative_path = Path(\"..\") / \"01_main-chapter-code\" / finetuned_model_path\n",
        "#     if relative_path.exists():\n",
        "#         shutil.copy(relative_path, \".\")\n",
        "\n",
        "#     # If this notebook is run on Google Colab, get it from a Google Drive folder\n",
        "#     elif \"COLAB_GPU\" in os.environ or \"COLAB_TPU_ADDR\" in os.environ:\n",
        "#         from google.colab import drive\n",
        "#         drive.mount(\"/content/drive\")\n",
        "#         google_drive_path = \"/content/drive/My Drive/Books/LLMs-From-Scratch/ch07/colab/gpt2-medium355M-sft.pth\"  # Readers need to adjust this path\n",
        "#         shutil.copy(google_drive_path, \".\")\n",
        "\n",
        "#     else:\n",
        "#         print(\n",
        "#             f\"Could not find '{finetuned_model_path}'.\\n\"\n",
        "#             \"Run the `ch07.ipynb` notebook to finetune and save the finetuned model.\"\n",
        "#         )"
      ],
      "metadata": {
        "trusted": true,
        "execution": {
          "iopub.status.busy": "2025-05-30T11:33:41.441777Z",
          "iopub.execute_input": "2025-05-30T11:33:41.442128Z",
          "iopub.status.idle": "2025-05-30T11:33:41.650537Z",
          "shell.execute_reply.started": "2025-05-30T11:33:41.442106Z",
          "shell.execute_reply": "2025-05-30T11:33:41.649263Z"
        },
        "colab": {
          "base_uri": "https://localhost:8080/",
          "height": 73
        },
        "id": "kjIwJb-C_Qyu",
        "outputId": "54367aba-7604-4cfd-a28e-fecff2764cee"
      },
      "outputs": [
        {
          "output_type": "stream",
          "name": "stdout",
          "text": [
            "Drive already mounted at /content/drive; to attempt to forcibly remount, call drive.mount(\"/content/drive\", force_remount=True).\n"
          ]
        },
        {
          "output_type": "execute_result",
          "data": {
            "text/plain": [
              "'./gpt2-medium355M-sft.pth'"
            ],
            "application/vnd.google.colaboratory.intrinsic+json": {
              "type": "string"
            }
          },
          "metadata": {},
          "execution_count": 29
        }
      ],
      "execution_count": 29
    },
    {
      "cell_type": "code",
      "source": [
        "import torch.nn as nn\n",
        "\n",
        "class LayerNorm(nn.Module):\n",
        "    def __init__(self, emb_dim):\n",
        "        super().__init__()\n",
        "        self.eps = 1e-5\n",
        "        self.scale = nn.Parameter(torch.ones(emb_dim))\n",
        "        self.shift = nn.Parameter(torch.zeros(emb_dim))\n",
        "\n",
        "    def forward(self, x):\n",
        "        mean = x.mean(dim=-1, keepdim=True)\n",
        "        var = x.var(dim=-1, keepdim=True, unbiased=False)\n",
        "        norm_x = (x - mean) / torch.sqrt(var + self.eps)\n",
        "\n",
        "        return self.scale * norm_x + self.shift"
      ],
      "metadata": {
        "trusted": true,
        "execution": {
          "iopub.status.busy": "2025-05-30T11:10:08.365303Z",
          "iopub.execute_input": "2025-05-30T11:10:08.365578Z",
          "iopub.status.idle": "2025-05-30T11:10:13.973733Z",
          "shell.execute_reply.started": "2025-05-30T11:10:08.365558Z",
          "shell.execute_reply": "2025-05-30T11:10:13.972788Z"
        },
        "id": "xMPoW5EP_Qyu"
      },
      "outputs": [],
      "execution_count": 30
    },
    {
      "cell_type": "code",
      "source": [
        "class GELU(nn.Module):\n",
        "    def __init__(self):\n",
        "        super().__init__()\n",
        "\n",
        "    def forward(self, x):\n",
        "        return 0.5 * x * (1 + torch.tanh(torch.sqrt(torch.tensor(2.0 / torch.pi)) * (x + 0.044715 * torch.pow(x, 3))))"
      ],
      "metadata": {
        "trusted": true,
        "execution": {
          "iopub.status.busy": "2025-05-30T11:10:24.689702Z",
          "iopub.execute_input": "2025-05-30T11:10:24.690139Z",
          "iopub.status.idle": "2025-05-30T11:10:24.696211Z",
          "shell.execute_reply.started": "2025-05-30T11:10:24.690115Z",
          "shell.execute_reply": "2025-05-30T11:10:24.695192Z"
        },
        "id": "tKNe8XgP_Qyu"
      },
      "outputs": [],
      "execution_count": 31
    },
    {
      "cell_type": "code",
      "source": [
        "class FeedForward(nn.Module):\n",
        "    def __init__(self, cfg):\n",
        "        super().__init__()\n",
        "        self.layers = nn.Sequential(\n",
        "            nn.Linear(cfg[\"emb_dim\"], 4 * cfg[\"emb_dim\"]),\n",
        "            GELU(),\n",
        "            nn.Linear(4 * cfg[\"emb_dim\"], cfg[\"emb_dim\"]),\n",
        "        )\n",
        "\n",
        "    def forward(self, x):\n",
        "        return self.layers(x)"
      ],
      "metadata": {
        "trusted": true,
        "execution": {
          "iopub.status.busy": "2025-05-30T11:10:37.114458Z",
          "iopub.execute_input": "2025-05-30T11:10:37.114769Z",
          "iopub.status.idle": "2025-05-30T11:10:37.120766Z",
          "shell.execute_reply.started": "2025-05-30T11:10:37.114746Z",
          "shell.execute_reply": "2025-05-30T11:10:37.119833Z"
        },
        "id": "rPg2BxdD_Qyv"
      },
      "outputs": [],
      "execution_count": 32
    },
    {
      "cell_type": "code",
      "source": [
        "class MultiHeadAttention(nn.Module):\n",
        "    def __init__(self, d_in, d_out, context_length, dropout, num_heads, qkv_bias=False):\n",
        "        super().__init__()\n",
        "        assert (d_out % num_heads == 0), \\\n",
        "            \"d_out must be divisible by num_heads\"\n",
        "        self.d_out = d_out\n",
        "        self.num_heads = num_heads\n",
        "        self.head_dim = d_out // num_heads # Reduce the projection dim to match desired output dim\n",
        "        self.W_query = nn.Linear(d_in, d_out, bias=qkv_bias)\n",
        "        self.W_key = nn.Linear(d_in, d_out, bias=qkv_bias)\n",
        "        self.W_value = nn.Linear(d_in, d_out, bias=qkv_bias)\n",
        "        self.out_proj = nn.Linear(d_out, d_out) # Linear layer to combine head outputs\n",
        "        self.dropout = nn.Dropout(dropout)\n",
        "        self.register_buffer(\n",
        "            \"mask\",\n",
        "            torch.triu(torch.ones(context_length, context_length), diagonal=1)\n",
        "        )\n",
        "    def forward(self, x):\n",
        "        b, num_tokens, d_in = x.shape # Shape: (batch, num_tokens, d_in)\n",
        "        queries = self.W_query(x)\n",
        "        keys = self.W_key(x)\n",
        "        values = self.W_value(x)\n",
        "\n",
        "        # We implicitly split the matrix by adding a 'num_heads' dimension\n",
        "        # Unroll last dim: (batch, num_tokens, d_out) -> (batch, num_tokens, num_tokens, head_dim)\n",
        "        queries = queries.view(b, num_tokens, self.num_heads, self.head_dim)\n",
        "        keys = keys.view(b, num_tokens, self.num_heads, self.head_dim)\n",
        "        values = values.view(b, num_tokens, self.num_heads, self.head_dim)\n",
        "\n",
        "        # Transpose: (batch, num_tokens, num_heads, head_dim) -> (batch, num_heads, num_tokens, head_dim)\n",
        "        queries = queries.transpose(1, 2)\n",
        "        keys = keys.transpose(1, 2)\n",
        "        values = values.transpose(1, 2)\n",
        "\n",
        "        # Compute scaled dot-product attention (aka self-attention) with a causal mask\n",
        "        attn_scores = queries @ keys.transpose(2, 3) # Dot product for each head\n",
        "\n",
        "        # Original mask truncated to the number of tokens and converted to boolean\n",
        "        mask_bool = self.mask.bool()[:num_tokens, :num_tokens]\n",
        "\n",
        "        # Use the mask to fill attention scores\n",
        "        attn_scores.masked_fill_(mask_bool, -torch.inf)\n",
        "\n",
        "        attn_weights = torch.softmax(attn_scores / keys.shape[-1]**0.5, dim=-1)\n",
        "        attn_weights = self.dropout(attn_weights)\n",
        "\n",
        "        # Shape: (batch, num_tokens, num_heads, head_dim)\n",
        "        context_vec = (attn_weights @ values).transpose(1, 2)\n",
        "\n",
        "        # Combine heads, where self.d_out = self.num_heads * self.head_dim\n",
        "        context_vec = context_vec.contiguous().view(b, num_tokens, self.d_out)\n",
        "        context_vec = self.out_proj(context_vec) # optional projection\n",
        "\n",
        "        return context_vec"
      ],
      "metadata": {
        "trusted": true,
        "execution": {
          "iopub.status.busy": "2025-05-30T11:10:51.978174Z",
          "iopub.execute_input": "2025-05-30T11:10:51.978503Z",
          "iopub.status.idle": "2025-05-30T11:10:51.989156Z",
          "shell.execute_reply.started": "2025-05-30T11:10:51.978477Z",
          "shell.execute_reply": "2025-05-30T11:10:51.988075Z"
        },
        "id": "kMEaigD1_Qyv"
      },
      "outputs": [],
      "execution_count": 33
    },
    {
      "cell_type": "code",
      "source": [
        "class TransformerBlock(nn.Module):\n",
        "    def __init__(self, cfg):\n",
        "        super().__init__()\n",
        "        self.att = MultiHeadAttention(\n",
        "            d_in = cfg[\"emb_dim\"],\n",
        "            d_out = cfg[\"emb_dim\"],\n",
        "            context_length = cfg[\"context_length\"],\n",
        "            num_heads = cfg[\"n_heads\"],\n",
        "            dropout = cfg[\"drop_rate\"],\n",
        "            qkv_bias = cfg[\"qkv_bias\"]\n",
        "        )\n",
        "        self.ff = FeedForward(cfg)\n",
        "        self.norm1 = LayerNorm(cfg[\"emb_dim\"])\n",
        "        self.norm2 = LayerNorm(cfg[\"emb_dim\"])\n",
        "        self.drop_shortcut = nn.Dropout(cfg[\"drop_rate\"])\n",
        "\n",
        "    def forward(self, x):\n",
        "        # Shortcut connection for attention block\n",
        "        shortcut = x\n",
        "        x = self.norm1(x)\n",
        "        x = self.att(x) # Shape [batch_size, num_tokens, emb_size]\n",
        "        x = self.drop_shortcut(x)\n",
        "        x = x + shortcut\n",
        "\n",
        "        # Shortcut connection for feed forward block\n",
        "        shortcut = x\n",
        "        x = self.norm2(x)\n",
        "        x = self.ff(x)\n",
        "        x = self.drop_shortcut(x)\n",
        "        x = x + shortcut # Add the original input back\n",
        "\n",
        "        return x"
      ],
      "metadata": {
        "trusted": true,
        "execution": {
          "iopub.status.busy": "2025-05-30T11:11:02.354094Z",
          "iopub.execute_input": "2025-05-30T11:11:02.354390Z",
          "iopub.status.idle": "2025-05-30T11:11:02.361305Z",
          "shell.execute_reply.started": "2025-05-30T11:11:02.354369Z",
          "shell.execute_reply": "2025-05-30T11:11:02.360480Z"
        },
        "id": "yHBbo8O5_Qyv"
      },
      "outputs": [],
      "execution_count": 34
    },
    {
      "cell_type": "code",
      "source": [
        "import torch\n",
        "import torch.nn as nn\n",
        "\n",
        "class GPTModel(nn.Module):\n",
        "    def __init__(self, cfg):\n",
        "        super().__init__()\n",
        "        self.tok_emb = nn.Embedding(cfg[\"vocab_size\"], cfg[\"emb_dim\"])\n",
        "        self.pos_emb = nn.Embedding(cfg[\"context_length\"], cfg[\"emb_dim\"])\n",
        "        self.drop_emb = nn.Dropout(cfg[\"drop_rate\"])\n",
        "        self.trf_blocks = nn.Sequential(\n",
        "            *[TransformerBlock(cfg) for _ in range(cfg[\"n_layers\"])]\n",
        "        )\n",
        "        self.final_norm = LayerNorm(cfg[\"emb_dim\"])\n",
        "        self.out_head = nn.Linear(cfg[\"emb_dim\"], cfg[\"vocab_size\"], bias = False)\n",
        "\n",
        "    def forward(self, in_idx):\n",
        "        batch_size, seq_len = in_idx.shape\n",
        "        tok_embeds = self.tok_emb(in_idx)\n",
        "\n",
        "        # The device setting will allow us to train the model on a CPU or GPU, depending on which device the input data sits on.\n",
        "        pos_embeds = self.pos_emb(torch.arange(seq_len, device = in_idx.device))\n",
        "        x = tok_embeds + pos_embeds\n",
        "        x = self.drop_emb(x)\n",
        "        x = self.trf_blocks(x)\n",
        "        x = self.final_norm(x)\n",
        "        logits = self.out_head(x)\n",
        "\n",
        "        return logits"
      ],
      "metadata": {
        "trusted": true,
        "execution": {
          "iopub.status.busy": "2025-05-30T11:11:22.438988Z",
          "iopub.execute_input": "2025-05-30T11:11:22.439562Z",
          "iopub.status.idle": "2025-05-30T11:11:22.447130Z",
          "shell.execute_reply.started": "2025-05-30T11:11:22.439533Z",
          "shell.execute_reply": "2025-05-30T11:11:22.446186Z"
        },
        "id": "Fh7t7E68_Qyv"
      },
      "outputs": [],
      "execution_count": 35
    },
    {
      "cell_type": "code",
      "source": [
        "BASE_CONFIG = {\n",
        "    \"vocab_size\": 50257,     # Vocabulary size\n",
        "    \"context_length\": 1024,  # Context length\n",
        "    \"drop_rate\": 0.0,        # Dropout rate\n",
        "    \"qkv_bias\": True,        # Query-key-value bias\n",
        "}\n",
        "\n",
        "model_configs = {\n",
        "    \"gpt2-small (124M)\": {\"emb_dim\": 768, \"n_layers\": 12, \"n_heads\": 12},\n",
        "    \"gpt2-medium (355M)\": {\"emb_dim\": 1024, \"n_layers\": 24, \"n_heads\": 16},\n",
        "    \"gpt2-large (774M)\": {\"emb_dim\": 1280, \"n_layers\": 36, \"n_heads\": 20},\n",
        "    \"gpt2-xl (1558M)\": {\"emb_dim\": 1600, \"n_layers\": 48, \"n_heads\": 25},\n",
        "}\n",
        "\n",
        "CHOOSE_MODEL = \"gpt2-medium (355M)\"\n",
        "\n",
        "BASE_CONFIG.update(model_configs[CHOOSE_MODEL])\n",
        "\n",
        "model = GPTModel(BASE_CONFIG)"
      ],
      "metadata": {
        "trusted": true,
        "execution": {
          "iopub.status.busy": "2025-05-30T11:12:37.504000Z",
          "iopub.execute_input": "2025-05-30T11:12:37.504324Z",
          "iopub.status.idle": "2025-05-30T11:12:42.013678Z",
          "shell.execute_reply.started": "2025-05-30T11:12:37.504302Z",
          "shell.execute_reply": "2025-05-30T11:12:42.012717Z"
        },
        "id": "eCFskkEX_Qyv"
      },
      "outputs": [],
      "execution_count": 36
    },
    {
      "cell_type": "code",
      "source": [
        "model.load_state_dict(\n",
        "    torch.load(\n",
        "        \"gpt2-medium355M-sft.pth\",\n",
        "        map_location=torch.device(\"cpu\"),\n",
        "        weights_only=True\n",
        "    )\n",
        ")\n",
        "model.eval();"
      ],
      "metadata": {
        "trusted": true,
        "execution": {
          "iopub.status.busy": "2025-05-30T11:13:40.704409Z",
          "iopub.execute_input": "2025-05-30T11:13:40.704741Z",
          "iopub.status.idle": "2025-05-30T11:13:40.724849Z",
          "shell.execute_reply.started": "2025-05-30T11:13:40.704718Z",
          "shell.execute_reply": "2025-05-30T11:13:40.723433Z"
        },
        "id": "SmuL8jiR_Qyw"
      },
      "outputs": [],
      "execution_count": 37
    },
    {
      "cell_type": "code",
      "source": [
        "def generate(model, idx, max_new_tokens, context_size, temperature=0.0, top_k=None, eos_id=None):\n",
        "\n",
        "    # For-loop is the same as before: Get logits, and only focus on last time step\n",
        "    for _ in range(max_new_tokens):\n",
        "        idx_cond = idx[:, -context_size:]\n",
        "        with torch.no_grad():\n",
        "            logits = model(idx_cond)\n",
        "        logits = logits[:, -1, :]\n",
        "\n",
        "        # New: Filter logits with top_k sampling\n",
        "        if top_k is not None:\n",
        "            # Keep only top_k values\n",
        "            top_logits, _ = torch.topk(logits, top_k)\n",
        "            min_val = top_logits[:, -1]\n",
        "            logits = torch.where(logits < min_val, torch.tensor(float(\"-inf\")).to(logits.device), logits)\n",
        "\n",
        "        # New: Apply temperature scaling\n",
        "        if temperature > 0.0:\n",
        "            logits = logits / temperature\n",
        "\n",
        "            # Apply softmax to get probabilities\n",
        "            probs = torch.softmax(logits, dim=-1)  # (batch_size, context_len)\n",
        "\n",
        "            # Sample from the distribution\n",
        "            idx_next = torch.multinomial(probs, num_samples=1)  # (batch_size, 1)\n",
        "\n",
        "        # Otherwise same as before: get idx of the vocab entry with the highest logits value\n",
        "        else:\n",
        "            idx_next = torch.argmax(logits, dim=-1, keepdim=True)  # (batch_size, 1)\n",
        "\n",
        "        if idx_next == eos_id:  # Stop generating early if end-of-sequence token is encountered and eos_id is specified\n",
        "            break\n",
        "\n",
        "        # Same as before: append sampled index to the running sequence\n",
        "        idx = torch.cat((idx, idx_next), dim=1)  # (batch_size, num_tokens+1)\n",
        "\n",
        "    return idx"
      ],
      "metadata": {
        "trusted": true,
        "execution": {
          "iopub.status.busy": "2025-05-30T11:22:13.995450Z",
          "iopub.execute_input": "2025-05-30T11:22:13.996451Z",
          "iopub.status.idle": "2025-05-30T11:22:14.004063Z",
          "shell.execute_reply.started": "2025-05-30T11:22:13.996421Z",
          "shell.execute_reply": "2025-05-30T11:22:14.002745Z"
        },
        "id": "0hBDXD2w_Qyw"
      },
      "outputs": [],
      "execution_count": 38
    },
    {
      "cell_type": "code",
      "source": [
        "def text_to_token_ids(text, tokenizer):\n",
        "    encoded = tokenizer.encode(text, allowed_special={'<|endoftext|>'})\n",
        "    encoded_tensor = torch.tensor(encoded).unsqueeze(0) # Add batch dimension\n",
        "    return encoded_tensor\n",
        "\n",
        "def token_ids_to_text(token_ids, tokenizer):\n",
        "    flat = token_ids.squeeze(0) # remove batch dimension\n",
        "    return tokenizer.decode(flat.tolist())"
      ],
      "metadata": {
        "trusted": true,
        "execution": {
          "iopub.status.busy": "2025-05-30T11:22:29.714095Z",
          "iopub.execute_input": "2025-05-30T11:22:29.714374Z",
          "iopub.status.idle": "2025-05-30T11:22:29.719397Z",
          "shell.execute_reply.started": "2025-05-30T11:22:29.714356Z",
          "shell.execute_reply": "2025-05-30T11:22:29.718467Z"
        },
        "id": "h5rdq8Yi_Qyw"
      },
      "outputs": [],
      "execution_count": 39
    },
    {
      "cell_type": "code",
      "source": [
        "prompt = \"\"\"Below is an instruction that describes a task. Write a response\n",
        "that appropriately completes the request.\n",
        "\n",
        "### Instruction:\n",
        "Convert the active sentence to passive: 'The chef cooks the meal every day.'\n",
        "\"\"\""
      ],
      "metadata": {
        "trusted": true,
        "execution": {
          "iopub.status.busy": "2025-05-30T11:25:00.795147Z",
          "iopub.execute_input": "2025-05-30T11:25:00.795460Z",
          "iopub.status.idle": "2025-05-30T11:25:00.800786Z",
          "shell.execute_reply.started": "2025-05-30T11:25:00.795437Z",
          "shell.execute_reply": "2025-05-30T11:25:00.799683Z"
        },
        "id": "Y1DQJ6ld_Qyw"
      },
      "outputs": [],
      "execution_count": 40
    },
    {
      "cell_type": "code",
      "source": [
        "torch.manual_seed(123)\n",
        "\n",
        "token_ids=generate(\n",
        "    model=model,\n",
        "    idx=text_to_token_ids(prompt, tokenizer),\n",
        "    max_new_tokens=35,\n",
        "    context_size=BASE_CONFIG[\"context_length\"],\n",
        "    eos_id=50256\n",
        ")\n",
        "\n",
        "response=token_ids_to_text(token_ids, tokenizer)\n",
        "print(response)"
      ],
      "metadata": {
        "trusted": true,
        "colab": {
          "base_uri": "https://localhost:8080/"
        },
        "id": "23Gy6wgv_Qyw",
        "outputId": "30664cdb-71f8-4851-ef4e-2f7c5d558240"
      },
      "outputs": [
        {
          "output_type": "stream",
          "name": "stdout",
          "text": [
            "Below is an instruction that describes a task. Write a response\n",
            "that appropriately completes the request.\n",
            "\n",
            "### Instruction:\n",
            "Convert the active sentence to passive: 'The chef cooks the meal every day.'\n",
            "\n",
            "### Response:\n",
            "The meal is cooked every day by the chef.\n"
          ]
        }
      ],
      "execution_count": 41
    },
    {
      "cell_type": "markdown",
      "source": [
        "- As we can see above, the model gives a reasonable and correct response."
      ],
      "metadata": {
        "id": "yNcX16s-AUhh"
      }
    },
    {
      "cell_type": "code",
      "source": [
        "def extract_response(response_text, input_text):\n",
        "    return response_text[len(input_text):].replace(\"### Response:\", \"\").strip()\n",
        "\n",
        "response=extract_response(response, prompt)\n",
        "print(response)"
      ],
      "metadata": {
        "colab": {
          "base_uri": "https://localhost:8080/"
        },
        "id": "dd7ZbXxqAeGS",
        "outputId": "2a1403a8-f6b5-4525-b9da-cf37bd8ac4d1"
      },
      "execution_count": 42,
      "outputs": [
        {
          "output_type": "stream",
          "name": "stdout",
          "text": [
            "The meal is cooked every day by the chef.\n"
          ]
        }
      ]
    },
    {
      "cell_type": "markdown",
      "source": [
        "- DPO works with two LLMs: a policy model (the LLM that we want to optimize) and a reference model (the original model that we keep unchanged).\n",
        "\n",
        "- In DPO, the reference model serves as a baseline or anchor, ensuring that the policy model doesn't drift too far from a reasonable behavior while optimizing for preferences."
      ],
      "metadata": {
        "id": "DF3wTCEQp6T6"
      }
    },
    {
      "cell_type": "code",
      "source": [
        "policy_model=model\n",
        "reference_model = GPTModel(BASE_CONFIG)\n",
        "reference_model.load_state_dict(\n",
        "    torch.load(\n",
        "        \"gpt2-medium355M-sft.pth\",\n",
        "        map_location=torch.device(\"cpu\"),\n",
        "        weights_only=True\n",
        "    )\n",
        ")\n",
        "reference_model.eval()\n",
        "policy_model.to(device)\n",
        "reference_model.to(device)"
      ],
      "metadata": {
        "id": "8zXs-R_4Biws",
        "colab": {
          "base_uri": "https://localhost:8080/"
        },
        "outputId": "7410a7ce-9afe-4b8e-8cac-20dfa57f38a9"
      },
      "execution_count": 43,
      "outputs": [
        {
          "output_type": "execute_result",
          "data": {
            "text/plain": [
              "GPTModel(\n",
              "  (tok_emb): Embedding(50257, 1024)\n",
              "  (pos_emb): Embedding(1024, 1024)\n",
              "  (drop_emb): Dropout(p=0.0, inplace=False)\n",
              "  (trf_blocks): Sequential(\n",
              "    (0): TransformerBlock(\n",
              "      (att): MultiHeadAttention(\n",
              "        (W_query): Linear(in_features=1024, out_features=1024, bias=True)\n",
              "        (W_key): Linear(in_features=1024, out_features=1024, bias=True)\n",
              "        (W_value): Linear(in_features=1024, out_features=1024, bias=True)\n",
              "        (out_proj): Linear(in_features=1024, out_features=1024, bias=True)\n",
              "        (dropout): Dropout(p=0.0, inplace=False)\n",
              "      )\n",
              "      (ff): FeedForward(\n",
              "        (layers): Sequential(\n",
              "          (0): Linear(in_features=1024, out_features=4096, bias=True)\n",
              "          (1): GELU()\n",
              "          (2): Linear(in_features=4096, out_features=1024, bias=True)\n",
              "        )\n",
              "      )\n",
              "      (norm1): LayerNorm()\n",
              "      (norm2): LayerNorm()\n",
              "      (drop_shortcut): Dropout(p=0.0, inplace=False)\n",
              "    )\n",
              "    (1): TransformerBlock(\n",
              "      (att): MultiHeadAttention(\n",
              "        (W_query): Linear(in_features=1024, out_features=1024, bias=True)\n",
              "        (W_key): Linear(in_features=1024, out_features=1024, bias=True)\n",
              "        (W_value): Linear(in_features=1024, out_features=1024, bias=True)\n",
              "        (out_proj): Linear(in_features=1024, out_features=1024, bias=True)\n",
              "        (dropout): Dropout(p=0.0, inplace=False)\n",
              "      )\n",
              "      (ff): FeedForward(\n",
              "        (layers): Sequential(\n",
              "          (0): Linear(in_features=1024, out_features=4096, bias=True)\n",
              "          (1): GELU()\n",
              "          (2): Linear(in_features=4096, out_features=1024, bias=True)\n",
              "        )\n",
              "      )\n",
              "      (norm1): LayerNorm()\n",
              "      (norm2): LayerNorm()\n",
              "      (drop_shortcut): Dropout(p=0.0, inplace=False)\n",
              "    )\n",
              "    (2): TransformerBlock(\n",
              "      (att): MultiHeadAttention(\n",
              "        (W_query): Linear(in_features=1024, out_features=1024, bias=True)\n",
              "        (W_key): Linear(in_features=1024, out_features=1024, bias=True)\n",
              "        (W_value): Linear(in_features=1024, out_features=1024, bias=True)\n",
              "        (out_proj): Linear(in_features=1024, out_features=1024, bias=True)\n",
              "        (dropout): Dropout(p=0.0, inplace=False)\n",
              "      )\n",
              "      (ff): FeedForward(\n",
              "        (layers): Sequential(\n",
              "          (0): Linear(in_features=1024, out_features=4096, bias=True)\n",
              "          (1): GELU()\n",
              "          (2): Linear(in_features=4096, out_features=1024, bias=True)\n",
              "        )\n",
              "      )\n",
              "      (norm1): LayerNorm()\n",
              "      (norm2): LayerNorm()\n",
              "      (drop_shortcut): Dropout(p=0.0, inplace=False)\n",
              "    )\n",
              "    (3): TransformerBlock(\n",
              "      (att): MultiHeadAttention(\n",
              "        (W_query): Linear(in_features=1024, out_features=1024, bias=True)\n",
              "        (W_key): Linear(in_features=1024, out_features=1024, bias=True)\n",
              "        (W_value): Linear(in_features=1024, out_features=1024, bias=True)\n",
              "        (out_proj): Linear(in_features=1024, out_features=1024, bias=True)\n",
              "        (dropout): Dropout(p=0.0, inplace=False)\n",
              "      )\n",
              "      (ff): FeedForward(\n",
              "        (layers): Sequential(\n",
              "          (0): Linear(in_features=1024, out_features=4096, bias=True)\n",
              "          (1): GELU()\n",
              "          (2): Linear(in_features=4096, out_features=1024, bias=True)\n",
              "        )\n",
              "      )\n",
              "      (norm1): LayerNorm()\n",
              "      (norm2): LayerNorm()\n",
              "      (drop_shortcut): Dropout(p=0.0, inplace=False)\n",
              "    )\n",
              "    (4): TransformerBlock(\n",
              "      (att): MultiHeadAttention(\n",
              "        (W_query): Linear(in_features=1024, out_features=1024, bias=True)\n",
              "        (W_key): Linear(in_features=1024, out_features=1024, bias=True)\n",
              "        (W_value): Linear(in_features=1024, out_features=1024, bias=True)\n",
              "        (out_proj): Linear(in_features=1024, out_features=1024, bias=True)\n",
              "        (dropout): Dropout(p=0.0, inplace=False)\n",
              "      )\n",
              "      (ff): FeedForward(\n",
              "        (layers): Sequential(\n",
              "          (0): Linear(in_features=1024, out_features=4096, bias=True)\n",
              "          (1): GELU()\n",
              "          (2): Linear(in_features=4096, out_features=1024, bias=True)\n",
              "        )\n",
              "      )\n",
              "      (norm1): LayerNorm()\n",
              "      (norm2): LayerNorm()\n",
              "      (drop_shortcut): Dropout(p=0.0, inplace=False)\n",
              "    )\n",
              "    (5): TransformerBlock(\n",
              "      (att): MultiHeadAttention(\n",
              "        (W_query): Linear(in_features=1024, out_features=1024, bias=True)\n",
              "        (W_key): Linear(in_features=1024, out_features=1024, bias=True)\n",
              "        (W_value): Linear(in_features=1024, out_features=1024, bias=True)\n",
              "        (out_proj): Linear(in_features=1024, out_features=1024, bias=True)\n",
              "        (dropout): Dropout(p=0.0, inplace=False)\n",
              "      )\n",
              "      (ff): FeedForward(\n",
              "        (layers): Sequential(\n",
              "          (0): Linear(in_features=1024, out_features=4096, bias=True)\n",
              "          (1): GELU()\n",
              "          (2): Linear(in_features=4096, out_features=1024, bias=True)\n",
              "        )\n",
              "      )\n",
              "      (norm1): LayerNorm()\n",
              "      (norm2): LayerNorm()\n",
              "      (drop_shortcut): Dropout(p=0.0, inplace=False)\n",
              "    )\n",
              "    (6): TransformerBlock(\n",
              "      (att): MultiHeadAttention(\n",
              "        (W_query): Linear(in_features=1024, out_features=1024, bias=True)\n",
              "        (W_key): Linear(in_features=1024, out_features=1024, bias=True)\n",
              "        (W_value): Linear(in_features=1024, out_features=1024, bias=True)\n",
              "        (out_proj): Linear(in_features=1024, out_features=1024, bias=True)\n",
              "        (dropout): Dropout(p=0.0, inplace=False)\n",
              "      )\n",
              "      (ff): FeedForward(\n",
              "        (layers): Sequential(\n",
              "          (0): Linear(in_features=1024, out_features=4096, bias=True)\n",
              "          (1): GELU()\n",
              "          (2): Linear(in_features=4096, out_features=1024, bias=True)\n",
              "        )\n",
              "      )\n",
              "      (norm1): LayerNorm()\n",
              "      (norm2): LayerNorm()\n",
              "      (drop_shortcut): Dropout(p=0.0, inplace=False)\n",
              "    )\n",
              "    (7): TransformerBlock(\n",
              "      (att): MultiHeadAttention(\n",
              "        (W_query): Linear(in_features=1024, out_features=1024, bias=True)\n",
              "        (W_key): Linear(in_features=1024, out_features=1024, bias=True)\n",
              "        (W_value): Linear(in_features=1024, out_features=1024, bias=True)\n",
              "        (out_proj): Linear(in_features=1024, out_features=1024, bias=True)\n",
              "        (dropout): Dropout(p=0.0, inplace=False)\n",
              "      )\n",
              "      (ff): FeedForward(\n",
              "        (layers): Sequential(\n",
              "          (0): Linear(in_features=1024, out_features=4096, bias=True)\n",
              "          (1): GELU()\n",
              "          (2): Linear(in_features=4096, out_features=1024, bias=True)\n",
              "        )\n",
              "      )\n",
              "      (norm1): LayerNorm()\n",
              "      (norm2): LayerNorm()\n",
              "      (drop_shortcut): Dropout(p=0.0, inplace=False)\n",
              "    )\n",
              "    (8): TransformerBlock(\n",
              "      (att): MultiHeadAttention(\n",
              "        (W_query): Linear(in_features=1024, out_features=1024, bias=True)\n",
              "        (W_key): Linear(in_features=1024, out_features=1024, bias=True)\n",
              "        (W_value): Linear(in_features=1024, out_features=1024, bias=True)\n",
              "        (out_proj): Linear(in_features=1024, out_features=1024, bias=True)\n",
              "        (dropout): Dropout(p=0.0, inplace=False)\n",
              "      )\n",
              "      (ff): FeedForward(\n",
              "        (layers): Sequential(\n",
              "          (0): Linear(in_features=1024, out_features=4096, bias=True)\n",
              "          (1): GELU()\n",
              "          (2): Linear(in_features=4096, out_features=1024, bias=True)\n",
              "        )\n",
              "      )\n",
              "      (norm1): LayerNorm()\n",
              "      (norm2): LayerNorm()\n",
              "      (drop_shortcut): Dropout(p=0.0, inplace=False)\n",
              "    )\n",
              "    (9): TransformerBlock(\n",
              "      (att): MultiHeadAttention(\n",
              "        (W_query): Linear(in_features=1024, out_features=1024, bias=True)\n",
              "        (W_key): Linear(in_features=1024, out_features=1024, bias=True)\n",
              "        (W_value): Linear(in_features=1024, out_features=1024, bias=True)\n",
              "        (out_proj): Linear(in_features=1024, out_features=1024, bias=True)\n",
              "        (dropout): Dropout(p=0.0, inplace=False)\n",
              "      )\n",
              "      (ff): FeedForward(\n",
              "        (layers): Sequential(\n",
              "          (0): Linear(in_features=1024, out_features=4096, bias=True)\n",
              "          (1): GELU()\n",
              "          (2): Linear(in_features=4096, out_features=1024, bias=True)\n",
              "        )\n",
              "      )\n",
              "      (norm1): LayerNorm()\n",
              "      (norm2): LayerNorm()\n",
              "      (drop_shortcut): Dropout(p=0.0, inplace=False)\n",
              "    )\n",
              "    (10): TransformerBlock(\n",
              "      (att): MultiHeadAttention(\n",
              "        (W_query): Linear(in_features=1024, out_features=1024, bias=True)\n",
              "        (W_key): Linear(in_features=1024, out_features=1024, bias=True)\n",
              "        (W_value): Linear(in_features=1024, out_features=1024, bias=True)\n",
              "        (out_proj): Linear(in_features=1024, out_features=1024, bias=True)\n",
              "        (dropout): Dropout(p=0.0, inplace=False)\n",
              "      )\n",
              "      (ff): FeedForward(\n",
              "        (layers): Sequential(\n",
              "          (0): Linear(in_features=1024, out_features=4096, bias=True)\n",
              "          (1): GELU()\n",
              "          (2): Linear(in_features=4096, out_features=1024, bias=True)\n",
              "        )\n",
              "      )\n",
              "      (norm1): LayerNorm()\n",
              "      (norm2): LayerNorm()\n",
              "      (drop_shortcut): Dropout(p=0.0, inplace=False)\n",
              "    )\n",
              "    (11): TransformerBlock(\n",
              "      (att): MultiHeadAttention(\n",
              "        (W_query): Linear(in_features=1024, out_features=1024, bias=True)\n",
              "        (W_key): Linear(in_features=1024, out_features=1024, bias=True)\n",
              "        (W_value): Linear(in_features=1024, out_features=1024, bias=True)\n",
              "        (out_proj): Linear(in_features=1024, out_features=1024, bias=True)\n",
              "        (dropout): Dropout(p=0.0, inplace=False)\n",
              "      )\n",
              "      (ff): FeedForward(\n",
              "        (layers): Sequential(\n",
              "          (0): Linear(in_features=1024, out_features=4096, bias=True)\n",
              "          (1): GELU()\n",
              "          (2): Linear(in_features=4096, out_features=1024, bias=True)\n",
              "        )\n",
              "      )\n",
              "      (norm1): LayerNorm()\n",
              "      (norm2): LayerNorm()\n",
              "      (drop_shortcut): Dropout(p=0.0, inplace=False)\n",
              "    )\n",
              "    (12): TransformerBlock(\n",
              "      (att): MultiHeadAttention(\n",
              "        (W_query): Linear(in_features=1024, out_features=1024, bias=True)\n",
              "        (W_key): Linear(in_features=1024, out_features=1024, bias=True)\n",
              "        (W_value): Linear(in_features=1024, out_features=1024, bias=True)\n",
              "        (out_proj): Linear(in_features=1024, out_features=1024, bias=True)\n",
              "        (dropout): Dropout(p=0.0, inplace=False)\n",
              "      )\n",
              "      (ff): FeedForward(\n",
              "        (layers): Sequential(\n",
              "          (0): Linear(in_features=1024, out_features=4096, bias=True)\n",
              "          (1): GELU()\n",
              "          (2): Linear(in_features=4096, out_features=1024, bias=True)\n",
              "        )\n",
              "      )\n",
              "      (norm1): LayerNorm()\n",
              "      (norm2): LayerNorm()\n",
              "      (drop_shortcut): Dropout(p=0.0, inplace=False)\n",
              "    )\n",
              "    (13): TransformerBlock(\n",
              "      (att): MultiHeadAttention(\n",
              "        (W_query): Linear(in_features=1024, out_features=1024, bias=True)\n",
              "        (W_key): Linear(in_features=1024, out_features=1024, bias=True)\n",
              "        (W_value): Linear(in_features=1024, out_features=1024, bias=True)\n",
              "        (out_proj): Linear(in_features=1024, out_features=1024, bias=True)\n",
              "        (dropout): Dropout(p=0.0, inplace=False)\n",
              "      )\n",
              "      (ff): FeedForward(\n",
              "        (layers): Sequential(\n",
              "          (0): Linear(in_features=1024, out_features=4096, bias=True)\n",
              "          (1): GELU()\n",
              "          (2): Linear(in_features=4096, out_features=1024, bias=True)\n",
              "        )\n",
              "      )\n",
              "      (norm1): LayerNorm()\n",
              "      (norm2): LayerNorm()\n",
              "      (drop_shortcut): Dropout(p=0.0, inplace=False)\n",
              "    )\n",
              "    (14): TransformerBlock(\n",
              "      (att): MultiHeadAttention(\n",
              "        (W_query): Linear(in_features=1024, out_features=1024, bias=True)\n",
              "        (W_key): Linear(in_features=1024, out_features=1024, bias=True)\n",
              "        (W_value): Linear(in_features=1024, out_features=1024, bias=True)\n",
              "        (out_proj): Linear(in_features=1024, out_features=1024, bias=True)\n",
              "        (dropout): Dropout(p=0.0, inplace=False)\n",
              "      )\n",
              "      (ff): FeedForward(\n",
              "        (layers): Sequential(\n",
              "          (0): Linear(in_features=1024, out_features=4096, bias=True)\n",
              "          (1): GELU()\n",
              "          (2): Linear(in_features=4096, out_features=1024, bias=True)\n",
              "        )\n",
              "      )\n",
              "      (norm1): LayerNorm()\n",
              "      (norm2): LayerNorm()\n",
              "      (drop_shortcut): Dropout(p=0.0, inplace=False)\n",
              "    )\n",
              "    (15): TransformerBlock(\n",
              "      (att): MultiHeadAttention(\n",
              "        (W_query): Linear(in_features=1024, out_features=1024, bias=True)\n",
              "        (W_key): Linear(in_features=1024, out_features=1024, bias=True)\n",
              "        (W_value): Linear(in_features=1024, out_features=1024, bias=True)\n",
              "        (out_proj): Linear(in_features=1024, out_features=1024, bias=True)\n",
              "        (dropout): Dropout(p=0.0, inplace=False)\n",
              "      )\n",
              "      (ff): FeedForward(\n",
              "        (layers): Sequential(\n",
              "          (0): Linear(in_features=1024, out_features=4096, bias=True)\n",
              "          (1): GELU()\n",
              "          (2): Linear(in_features=4096, out_features=1024, bias=True)\n",
              "        )\n",
              "      )\n",
              "      (norm1): LayerNorm()\n",
              "      (norm2): LayerNorm()\n",
              "      (drop_shortcut): Dropout(p=0.0, inplace=False)\n",
              "    )\n",
              "    (16): TransformerBlock(\n",
              "      (att): MultiHeadAttention(\n",
              "        (W_query): Linear(in_features=1024, out_features=1024, bias=True)\n",
              "        (W_key): Linear(in_features=1024, out_features=1024, bias=True)\n",
              "        (W_value): Linear(in_features=1024, out_features=1024, bias=True)\n",
              "        (out_proj): Linear(in_features=1024, out_features=1024, bias=True)\n",
              "        (dropout): Dropout(p=0.0, inplace=False)\n",
              "      )\n",
              "      (ff): FeedForward(\n",
              "        (layers): Sequential(\n",
              "          (0): Linear(in_features=1024, out_features=4096, bias=True)\n",
              "          (1): GELU()\n",
              "          (2): Linear(in_features=4096, out_features=1024, bias=True)\n",
              "        )\n",
              "      )\n",
              "      (norm1): LayerNorm()\n",
              "      (norm2): LayerNorm()\n",
              "      (drop_shortcut): Dropout(p=0.0, inplace=False)\n",
              "    )\n",
              "    (17): TransformerBlock(\n",
              "      (att): MultiHeadAttention(\n",
              "        (W_query): Linear(in_features=1024, out_features=1024, bias=True)\n",
              "        (W_key): Linear(in_features=1024, out_features=1024, bias=True)\n",
              "        (W_value): Linear(in_features=1024, out_features=1024, bias=True)\n",
              "        (out_proj): Linear(in_features=1024, out_features=1024, bias=True)\n",
              "        (dropout): Dropout(p=0.0, inplace=False)\n",
              "      )\n",
              "      (ff): FeedForward(\n",
              "        (layers): Sequential(\n",
              "          (0): Linear(in_features=1024, out_features=4096, bias=True)\n",
              "          (1): GELU()\n",
              "          (2): Linear(in_features=4096, out_features=1024, bias=True)\n",
              "        )\n",
              "      )\n",
              "      (norm1): LayerNorm()\n",
              "      (norm2): LayerNorm()\n",
              "      (drop_shortcut): Dropout(p=0.0, inplace=False)\n",
              "    )\n",
              "    (18): TransformerBlock(\n",
              "      (att): MultiHeadAttention(\n",
              "        (W_query): Linear(in_features=1024, out_features=1024, bias=True)\n",
              "        (W_key): Linear(in_features=1024, out_features=1024, bias=True)\n",
              "        (W_value): Linear(in_features=1024, out_features=1024, bias=True)\n",
              "        (out_proj): Linear(in_features=1024, out_features=1024, bias=True)\n",
              "        (dropout): Dropout(p=0.0, inplace=False)\n",
              "      )\n",
              "      (ff): FeedForward(\n",
              "        (layers): Sequential(\n",
              "          (0): Linear(in_features=1024, out_features=4096, bias=True)\n",
              "          (1): GELU()\n",
              "          (2): Linear(in_features=4096, out_features=1024, bias=True)\n",
              "        )\n",
              "      )\n",
              "      (norm1): LayerNorm()\n",
              "      (norm2): LayerNorm()\n",
              "      (drop_shortcut): Dropout(p=0.0, inplace=False)\n",
              "    )\n",
              "    (19): TransformerBlock(\n",
              "      (att): MultiHeadAttention(\n",
              "        (W_query): Linear(in_features=1024, out_features=1024, bias=True)\n",
              "        (W_key): Linear(in_features=1024, out_features=1024, bias=True)\n",
              "        (W_value): Linear(in_features=1024, out_features=1024, bias=True)\n",
              "        (out_proj): Linear(in_features=1024, out_features=1024, bias=True)\n",
              "        (dropout): Dropout(p=0.0, inplace=False)\n",
              "      )\n",
              "      (ff): FeedForward(\n",
              "        (layers): Sequential(\n",
              "          (0): Linear(in_features=1024, out_features=4096, bias=True)\n",
              "          (1): GELU()\n",
              "          (2): Linear(in_features=4096, out_features=1024, bias=True)\n",
              "        )\n",
              "      )\n",
              "      (norm1): LayerNorm()\n",
              "      (norm2): LayerNorm()\n",
              "      (drop_shortcut): Dropout(p=0.0, inplace=False)\n",
              "    )\n",
              "    (20): TransformerBlock(\n",
              "      (att): MultiHeadAttention(\n",
              "        (W_query): Linear(in_features=1024, out_features=1024, bias=True)\n",
              "        (W_key): Linear(in_features=1024, out_features=1024, bias=True)\n",
              "        (W_value): Linear(in_features=1024, out_features=1024, bias=True)\n",
              "        (out_proj): Linear(in_features=1024, out_features=1024, bias=True)\n",
              "        (dropout): Dropout(p=0.0, inplace=False)\n",
              "      )\n",
              "      (ff): FeedForward(\n",
              "        (layers): Sequential(\n",
              "          (0): Linear(in_features=1024, out_features=4096, bias=True)\n",
              "          (1): GELU()\n",
              "          (2): Linear(in_features=4096, out_features=1024, bias=True)\n",
              "        )\n",
              "      )\n",
              "      (norm1): LayerNorm()\n",
              "      (norm2): LayerNorm()\n",
              "      (drop_shortcut): Dropout(p=0.0, inplace=False)\n",
              "    )\n",
              "    (21): TransformerBlock(\n",
              "      (att): MultiHeadAttention(\n",
              "        (W_query): Linear(in_features=1024, out_features=1024, bias=True)\n",
              "        (W_key): Linear(in_features=1024, out_features=1024, bias=True)\n",
              "        (W_value): Linear(in_features=1024, out_features=1024, bias=True)\n",
              "        (out_proj): Linear(in_features=1024, out_features=1024, bias=True)\n",
              "        (dropout): Dropout(p=0.0, inplace=False)\n",
              "      )\n",
              "      (ff): FeedForward(\n",
              "        (layers): Sequential(\n",
              "          (0): Linear(in_features=1024, out_features=4096, bias=True)\n",
              "          (1): GELU()\n",
              "          (2): Linear(in_features=4096, out_features=1024, bias=True)\n",
              "        )\n",
              "      )\n",
              "      (norm1): LayerNorm()\n",
              "      (norm2): LayerNorm()\n",
              "      (drop_shortcut): Dropout(p=0.0, inplace=False)\n",
              "    )\n",
              "    (22): TransformerBlock(\n",
              "      (att): MultiHeadAttention(\n",
              "        (W_query): Linear(in_features=1024, out_features=1024, bias=True)\n",
              "        (W_key): Linear(in_features=1024, out_features=1024, bias=True)\n",
              "        (W_value): Linear(in_features=1024, out_features=1024, bias=True)\n",
              "        (out_proj): Linear(in_features=1024, out_features=1024, bias=True)\n",
              "        (dropout): Dropout(p=0.0, inplace=False)\n",
              "      )\n",
              "      (ff): FeedForward(\n",
              "        (layers): Sequential(\n",
              "          (0): Linear(in_features=1024, out_features=4096, bias=True)\n",
              "          (1): GELU()\n",
              "          (2): Linear(in_features=4096, out_features=1024, bias=True)\n",
              "        )\n",
              "      )\n",
              "      (norm1): LayerNorm()\n",
              "      (norm2): LayerNorm()\n",
              "      (drop_shortcut): Dropout(p=0.0, inplace=False)\n",
              "    )\n",
              "    (23): TransformerBlock(\n",
              "      (att): MultiHeadAttention(\n",
              "        (W_query): Linear(in_features=1024, out_features=1024, bias=True)\n",
              "        (W_key): Linear(in_features=1024, out_features=1024, bias=True)\n",
              "        (W_value): Linear(in_features=1024, out_features=1024, bias=True)\n",
              "        (out_proj): Linear(in_features=1024, out_features=1024, bias=True)\n",
              "        (dropout): Dropout(p=0.0, inplace=False)\n",
              "      )\n",
              "      (ff): FeedForward(\n",
              "        (layers): Sequential(\n",
              "          (0): Linear(in_features=1024, out_features=4096, bias=True)\n",
              "          (1): GELU()\n",
              "          (2): Linear(in_features=4096, out_features=1024, bias=True)\n",
              "        )\n",
              "      )\n",
              "      (norm1): LayerNorm()\n",
              "      (norm2): LayerNorm()\n",
              "      (drop_shortcut): Dropout(p=0.0, inplace=False)\n",
              "    )\n",
              "  )\n",
              "  (final_norm): LayerNorm()\n",
              "  (out_head): Linear(in_features=1024, out_features=50257, bias=False)\n",
              ")"
            ]
          },
          "metadata": {},
          "execution_count": 43
        }
      ]
    },
    {
      "cell_type": "markdown",
      "source": [
        "## **DPO Loss Function**\n",
        "\n",
        "Paper link: https://arxiv.org/pdf/2305.18290.pdf"
      ],
      "metadata": {
        "id": "IPLcAxBwp6HU"
      }
    },
    {
      "cell_type": "markdown",
      "source": [
        "$$\n",
        "\\mathcal{L}_{\\text{DPO}}(\\pi_\\theta; \\pi_{\\text{ref}}) = -\\mathbb{E}_{(x, y_w, y_l) \\sim \\mathcal{D}} \\left[\n",
        "\\log \\sigma \\left(\n",
        "\\beta \\log \\frac{\\pi_\\theta(y_w \\mid x)}{\\pi_{\\text{ref}}(y_w \\mid x)}\n",
        "-\n",
        "\\beta \\log \\frac{\\pi_\\theta(y_l \\mid x)}{\\pi_{\\text{ref}}(y_l \\mid x)}\n",
        "\\right)\n",
        "\\right]\n",
        "$$\n",
        "\n",
        "Let's simplify it.\n",
        "$$\n",
        "\\log\\sigma\\left(\\beta \\log \\frac{\\pi_\\theta(y_w \\mid x)}{\\pi_{\\text{ref}}(y_w \\mid x)}\n",
        "-\n",
        "\\beta \\log \\frac{\\pi_\\theta(y_l \\mid x)}{\\pi_{\\text{ref}}(y_l \\mid x)}\n",
        "\\right)\n",
        "$$\n",
        "\n",
        "\n",
        "$$\n",
        "\\log\\sigma\\beta\\left(\\log \\frac{\\pi_\\theta(y_w \\mid x)}{\\pi_{\\text{ref}}(y_w \\mid x)}\n",
        "-\n",
        "\\log \\frac{\\pi_\\theta(y_l \\mid x)}{\\pi_{\\text{ref}}(y_l \\mid x)}\n",
        "\\right)\n",
        "$$\n",
        "\n",
        "Let's apply $\\log\\left(\\frac{a}{b}\\right) = \\log a - \\log b$\n",
        "\n",
        "$$\n",
        "\\log\\sigma\\beta \\left[\n",
        "\\log \\{\\pi_\\theta(y_w \\mid x)\\} - \\log\\{\\pi_{\\text{ref}}(y_w \\mid x)\\}\n",
        "-\n",
        "\\log \\{\\pi_\\theta(y_l \\mid x)\\} + \\log\\{\\pi_{\\text{ref}}(y_l \\mid x)\\}\n",
        "\\right]\n",
        "$$\n",
        "\n",
        "$$\n",
        "\\log\\sigma\\beta \\left(\n",
        "\\left[\n",
        "\\log \\{\\pi_\\theta(y_w \\mid x)\\} - \\log \\{\\pi_\\theta(y_l \\mid x)\\}\n",
        "\\right]\n",
        "-\n",
        "\\left[\n",
        "\\log\\{\\pi_{\\text{ref}}(y_w \\mid x)\\} - \\log\\{\\pi_{\\text{ref}}(y_l \\mid x)\\}\n",
        "\\right]\n",
        "\\right)\n",
        "$$\n",
        "\n",
        "Let's integrate mean\n",
        "\n",
        "$$\n",
        "\\mathcal{L}_{\\text{DPO}}(\\pi_\\theta; \\pi_{\\text{ref}})\n",
        "=\n",
        "-\\mathbb{E}_{(x, y_w, y_l) \\sim \\mathcal{D}} \\left[\n",
        "\\log\\sigma\\beta \\left(\n",
        "\\left[\n",
        "\\log \\{\\pi_\\theta(y_w \\mid x)\\} - \\log \\{\\pi_\\theta(y_l \\mid x)\\}\n",
        "\\right]\n",
        "-\n",
        "\\left[\n",
        "\\log\\{\\pi_{\\text{ref}}(y_w \\mid x)\\} - \\log\\{\\pi_{\\text{ref}}(y_l \\mid x)\\}\n",
        "\\right]\n",
        "\\right)\n",
        "\\right]\n",
        "$$\n",
        "\n",
        "<br>\n",
        "Where,<br>\n",
        "$\\mathcal{L}_{\\text{DPO}}$ is the DPO loss. <br>\n",
        "$\\pi_\\theta$ is the policy LLM, which will be optimize. <br>\n",
        "$\\pi_\\text{ref}$ is the reference LLM. <br>\n",
        "At the beginning of the training,  $\\pi_\\theta$  and  $\\pi_\\text{ref}$  are typically the same. <br>\n",
        "$-\\mathbb{E}_{(x, y_w, y_l) \\sim \\mathcal{D}}$ is the negative expected value with $\\mathcal{D}$ is the preference dataset. <br>\n",
        "$\\log\\sigma \\left(\\cdot\\right)$ is the logistic sigmoid function that transforms the log-odds of the preferred and rejected responses into a probability score. <br>\n",
        "$\\beta$ is the hyperparameter to control the divergence between the $\\pi_\\theta$ and $\\pi_\\text{ref}$ model. Increasing $\\beta$ increases the impact of the difference between $\\pi_\\theta$ and $\\pi_\\text{ref}$ in terms of their log probabilities on the overall loss function, therby increasing the devergence between the two model. <br>\n",
        "$y_w$ is the human preferred response. <br>\n",
        "$x$ is a prompt from the dataset. <br>\n",
        "$y_l$ is the human dispreferred response. <br>\n",
        "$\\log \\frac{\\pi_\\theta(y_w \\mid x)}{\\pi_{\\text{ref}}(y_w \\mid x)}$ is log probability of the human-preferred response that we want to maximize. <br>\n",
        "$\\log \\frac{\\pi_\\theta(y_l \\mid x)}{\\pi_{\\text{ref}}(y_l \\mid x)}$ is log probability of the human-dispreferred response that we want to minimize. <br>\n",
        "$\\log\\{\\pi_\\theta(y_w \\mid x)\\}$ is the policy chosen log probabilities. <br>\n",
        "$\\log\\{\\pi_\\theta(y_l \\mid x)\\}$ is the policy rejected log probabilities. <br>\n",
        "$\\log\\{\\pi_\\text{ref}(y_w \\mid x)\\}$ is the reference chosen log probabilities. <br>\n",
        "$\\log\\{\\pi_\\text{ref}(y_l \\mid x)\\}$ is the reference rejected log probabilities. <br>"
      ],
      "metadata": {
        "id": "3cNJSlztcA9T"
      }
    },
    {
      "cell_type": "code",
      "source": [
        "import torch.nn.functional as F\n",
        "\n",
        "def compute_dpo_loss(\n",
        "      model_chosen_logprobs,\n",
        "      model_rejected_logprobs,\n",
        "      reference_chosen_logprobs,\n",
        "      reference_rejected_logprobs,\n",
        "      beta=0.1,\n",
        "    ):\n",
        "    \"\"\"Compute the DPO loss for a batch of policy and reference model log probabilities.\n",
        "\n",
        "    Args:\n",
        "        policy_chosen_logprobs: Log probabilities of the policy model for the chosen responses. Shape: (batch_size,)\n",
        "        policy_rejected_logprobs: Log probabilities of the policy model for the rejected responses. Shape: (batch_size,)\n",
        "        reference_chosen_logprobs: Log probabilities of the reference model for the chosen responses. Shape: (batch_size,)\n",
        "        reference_rejected_logprobs: Log probabilities of the reference model for the rejected responses. Shape: (batch_size,)\n",
        "        beta: Temperature parameter for the DPO loss; typically something in the range of 0.1 to 0.5. We ignore the reference model as beta -> 0.\n",
        "\n",
        "    Returns:\n",
        "        A tuple of three tensors: (loss, chosen_rewards, rejected_rewards).\n",
        "    \"\"\"\n",
        "\n",
        "    model_logratios = model_chosen_logprobs - model_rejected_logprobs\n",
        "    reference_logratios = reference_chosen_logprobs - reference_rejected_logprobs\n",
        "    logits = model_logratios - reference_logratios\n",
        "\n",
        "    losses = -F.logsigmoid(beta * logits)\n",
        "\n",
        "    # Optional values to track progress during training\n",
        "    chosen_rewards = (model_chosen_logprobs - reference_chosen_logprobs).detach()\n",
        "    rejected_rewards = (model_rejected_logprobs - reference_rejected_logprobs).detach()\n",
        "\n",
        "    # .mean() to average over the samples in the batch\n",
        "    return losses.mean(), chosen_rewards.mean(), rejected_rewards.mean()"
      ],
      "metadata": {
        "id": "BxWjoAUrstX-"
      },
      "execution_count": 44,
      "outputs": []
    },
    {
      "cell_type": "markdown",
      "source": [
        "Above, we assumed that the log probabilities were already computed; Let's now define a `compute_logprobs` function that we can use to compute these log probabilities that were passed into the `compute_dpo_loss` function above, that is, the values $log\\{\\pi_\\theta (y_w \\mid x)\\}$, $log\\{\\pi_\\theta (y_l \\mid x)\\}$, and so forth."
      ],
      "metadata": {
        "id": "ND1udrqsLTpp"
      }
    },
    {
      "cell_type": "code",
      "source": [
        "def compute_logprobs(logits, labels, selection_mask=None):\n",
        "    \"\"\"\n",
        "    Compute log probabilities.\n",
        "\n",
        "    Args:\n",
        "      logits: Tensor of shape (batch_size, num_tokens, vocab_size)\n",
        "      labels: Tensor of shape (batch_size, num_tokens)\n",
        "      selection_mask: Tensor for shape (batch_size, num_tokens)\n",
        "\n",
        "    Returns:\n",
        "      mean_log_prob: Mean log probability excluding padding tokens.\n",
        "    \"\"\"\n",
        "\n",
        "    # Labels are the inputs shifted by one\n",
        "    labels = labels[:, 1:].clone()\n",
        "\n",
        "    # Truncate logits to match the labels num_tokens\n",
        "    logits = logits[:, :-1, :]\n",
        "\n",
        "    log_probs = F.log_softmax(logits, dim=-1)\n",
        "\n",
        "    # Gather the log probabilities for the actual labels\n",
        "    selected_log_probs = torch.gather(\n",
        "        input=log_probs,\n",
        "        dim=-1,\n",
        "        index=labels.unsqueeze(-1)\n",
        "    ).squeeze(-1)\n",
        "\n",
        "    if selection_mask is not None:\n",
        "        mask = selection_mask[:, 1:].clone()\n",
        "\n",
        "        # Apply the mask to filter out padding tokens\n",
        "        selected_log_probs = selected_log_probs * mask\n",
        "\n",
        "        # Calculate the average log probability excluding padding tokens\n",
        "        # This averages over the tokens, so the shape is (batch_size,)\n",
        "        avg_log_prob = selected_log_probs.sum(-1) / mask.sum(-1)\n",
        "\n",
        "        return avg_log_prob\n",
        "\n",
        "    else:\n",
        "        return selected_log_probs.mean(-1)"
      ],
      "metadata": {
        "id": "h7zPKuPoMcXS"
      },
      "execution_count": 45,
      "outputs": []
    },
    {
      "cell_type": "markdown",
      "source": [
        "- Note that this function above might look a bit intimidating at first due to the `torch.gather` function, but it's pretty similar to what happens under the hood in PyTorch's `cross_entropy` function.\n",
        "\n",
        "- For example, consider the following example."
      ],
      "metadata": {
        "id": "7jNivHFXQzNg"
      }
    },
    {
      "cell_type": "code",
      "source": [
        "# Sample data\n",
        "\n",
        "logits = torch.tensor( # Shape: (2, 3)\n",
        "    [[2.0, 1.0, 0.1],\n",
        "     [0.5, 2.5, 0.3]]\n",
        ")\n",
        "targets = torch.tensor([0, 2]) # Shape: (2, )\n",
        "\n",
        "# Manual loss using torch.gather\n",
        "log_softmax_logits = F.log_softmax(logits, dim=1) # Shape: (2, 3)\n",
        "selected_log_probs = torch.gather(\n",
        "    input=log_softmax_logits,\n",
        "    dim=1,\n",
        "    index=targets.unsqueeze(dim=1), # Shape: (2, 1)\n",
        ").squeeze(dim=1) # Shape: (2, )\n",
        "manual_loss = -selected_log_probs.mean() # Averaging over the batch\n",
        "\n",
        "# PyTorch loss\n",
        "cross_entropy_loss = F.cross_entropy(logits, targets)\n",
        "print(manual_loss, cross_entropy_loss)"
      ],
      "metadata": {
        "colab": {
          "base_uri": "https://localhost:8080/"
        },
        "id": "ITRjdtRsRIi2",
        "outputId": "8b6e9219-24a2-4096-f5a5-a0857ad457a7"
      },
      "execution_count": 46,
      "outputs": [
        {
          "output_type": "stream",
          "name": "stdout",
          "text": [
            "tensor(1.4185) tensor(1.4185)\n"
          ]
        }
      ]
    },
    {
      "cell_type": "markdown",
      "source": [
        "- So, above, we can see that the two implementations are equivalent, but let's narrow down a bit further to the `torch.gather` mechanics.\n",
        "- Consider the following two tensors."
      ],
      "metadata": {
        "id": "H2D5MFKJUTwO"
      }
    },
    {
      "cell_type": "code",
      "source": [
        "t = torch.tensor(\n",
        "    [[1.0, 2.0],\n",
        "     [3.0, 4.0]]\n",
        ")\n",
        "\n",
        "m = torch.tensor(\n",
        "    [[1, 1], # For row 0, we will pick column 1 (twice)\n",
        "     [0, 1]] # For row 1, we will pick column 0 and column 1\n",
        ")"
      ],
      "metadata": {
        "id": "3b0Ku-F3UoLK"
      },
      "execution_count": 47,
      "outputs": []
    },
    {
      "cell_type": "markdown",
      "source": [
        "- Above, `t` is a tensor we want to select from, and `m` is a mask to specify how we want to select.\n",
        "  - For instance, since `m` contains `[1, 1]` in the first row, it will select column one of first row twice of `t`.\n",
        "  - The second row of `m`, `[0, 1]`, selects column 0 and column 1 of second row of `t`."
      ],
      "metadata": {
        "id": "FnuzbE8QVpHe"
      }
    },
    {
      "cell_type": "code",
      "source": [
        "torch.gather(\n",
        "    input=t,\n",
        "    dim=-1,\n",
        "    index=m\n",
        ")"
      ],
      "metadata": {
        "colab": {
          "base_uri": "https://localhost:8080/"
        },
        "id": "LEHfjBW_Y8VB",
        "outputId": "caf8a3f0-535e-491e-f863-6678a4eaa4f8"
      },
      "execution_count": 48,
      "outputs": [
        {
          "output_type": "execute_result",
          "data": {
            "text/plain": [
              "tensor([[2., 2.],\n",
              "        [3., 4.]])"
            ]
          },
          "metadata": {},
          "execution_count": 48
        }
      ]
    },
    {
      "cell_type": "markdown",
      "source": [
        "- In other words, `torch.gather` is a selection function.\n",
        "- When we computed the loss earlier, we used it to retrieve the log probabilities corresponding to the correct token in the 50,256 vocabulary.\n",
        "- The `correct` tokens are the tokens given in the response entry.\n",
        "- Regarding the `compute_logprobs` function above, we use `torch.gather` here because it gives us a bit more control than `cross_entropy`, but is, in essence, a similar idea.\n",
        "- The `selection_mask` we use there is to optionally ignore prompt and padding tokens.\n",
        "- We can then use the `compute_logprobs` function as follows to compute the inputs for the `compute_dpo_loss` function."
      ],
      "metadata": {
        "id": "AnMKWGsWZaZz"
      }
    },
    {
      "cell_type": "code",
      "source": [
        "def compute_dpo_loss_batch(batch, policy_model, reference_model, beta):\n",
        "    \"\"\"Compute the DPO loss on an input batch\"\"\"\n",
        "\n",
        "    # where policy_model(batch[\"chosen\"]) are the logits\n",
        "    policy_chosen_log_probas = compute_logprobs(\n",
        "        logits=policy_model(batch[\"chosen\"]),\n",
        "        labels=batch[\"chosen\"],\n",
        "        selection_mask=batch[\"chosen_mask\"]\n",
        "    )\n",
        "    policy_rejected_log_probas = compute_logprobs(\n",
        "        logits=policy_model(batch[\"rejected\"]),\n",
        "        labels=batch[\"rejected\"],\n",
        "        selection_mask=batch[\"rejected_mask\"]\n",
        "    )\n",
        "\n",
        "    with torch.no_grad():\n",
        "        ref_chosen_log_probas = compute_logprobs(\n",
        "            logits=reference_model(batch[\"chosen\"]),\n",
        "            labels=batch[\"chosen\"],\n",
        "            selection_mask=batch[\"chosen_mask\"]\n",
        "        )\n",
        "        ref_rejected_log_probas = compute_logprobs(\n",
        "            logits=reference_model(batch[\"rejected\"]),\n",
        "            labels=batch[\"rejected\"],\n",
        "            selection_mask=batch[\"rejected_mask\"]\n",
        "        )\n",
        "    loss, chosen_rewards, rejected_rewards = compute_dpo_loss(\n",
        "        model_chosen_logprobs=policy_chosen_log_probas,\n",
        "        model_rejected_logprobs=policy_rejected_log_probas,\n",
        "        reference_chosen_logprobs=ref_chosen_log_probas,\n",
        "        reference_rejected_logprobs=ref_rejected_log_probas,\n",
        "        beta=beta\n",
        "    )\n",
        "    return loss, chosen_rewards, rejected_rewards"
      ],
      "metadata": {
        "id": "qGnt95o9a1cg"
      },
      "execution_count": 49,
      "outputs": []
    },
    {
      "cell_type": "markdown",
      "source": [
        "The above function works for a single batch. Below, we extend this function to work for a specified `num_batches` in a dataloader."
      ],
      "metadata": {
        "id": "BkDW4vzhdPdD"
      }
    },
    {
      "cell_type": "code",
      "source": [
        "def compute_dpo_loss_loader(\n",
        "    data_loader,\n",
        "    policy_model,\n",
        "    reference_model,\n",
        "    beta,\n",
        "    num_batches=None\n",
        "):\n",
        "    \"\"\"Apply compute_dpo_loss_batch to a whole dataloader\"\"\"\n",
        "    total_loss = 0.0\n",
        "    total_chosen_rewards = 0.0\n",
        "    total_rejected_rewards = 0.0\n",
        "\n",
        "    if len(data_loader) == 0:\n",
        "        return float(\"nan\")\n",
        "    elif num_batches is None:\n",
        "        num_batches = len(data_loader)\n",
        "    else:\n",
        "        # Reduce the number of batches to match the total number of batches in the data loader\n",
        "        # if num_batches exceeds the number of batches in the data loader\n",
        "        num_batches = min(num_batches, len(data_loader))\n",
        "    for i, batch in enumerate(data_loader):\n",
        "        if i < num_batches:\n",
        "            loss, chosen_rewards, rejected_rewards = compute_dpo_loss_batch(\n",
        "                batch=batch,\n",
        "                policy_model=policy_model,\n",
        "                reference_model=reference_model,\n",
        "                beta=beta\n",
        "            )\n",
        "            total_loss += loss.item()\n",
        "            total_chosen_rewards += chosen_rewards.item()\n",
        "            total_rejected_rewards += rejected_rewards.item()\n",
        "\n",
        "        else:\n",
        "            break\n",
        "\n",
        "    # calculate average\n",
        "    total_loss /= num_batches\n",
        "    total_chosen_rewards /= num_batches\n",
        "    total_rejected_rewards /= num_batches\n",
        "    return total_loss, total_chosen_rewards, total_rejected_rewards"
      ],
      "metadata": {
        "id": "nGocClEAdZ_T"
      },
      "execution_count": 50,
      "outputs": []
    },
    {
      "cell_type": "markdown",
      "source": [
        "- Why a specified `num_batches`? That's purely for efficiency reasons (because calculating the loss on the whole dataset each time would slow down the training significantly).\n",
        "\n",
        "- Lastly, we define a convenience function for our training function later; this evaluate `compute_dpo_loss_loader` function computes the DPO loss and rewards for both the training and validation loader for logging purposes."
      ],
      "metadata": {
        "id": "BsCao8K2fdi4"
      }
    },
    {
      "cell_type": "code",
      "source": [
        "def evaluate_dpo_loss_loader(policy_model, reference_model, train_loader, val_loader, beta, eval_iter):\n",
        "    \"\"\"Compute the DPO loss for the training and validation dataset\"\"\"\n",
        "\n",
        "    policy_model.eval()\n",
        "    with torch.no_grad():\n",
        "        train_loss, train_chosen_rewards, train_rejected_rewards = compute_dpo_loss_loader(\n",
        "            data_loader=train_loader,\n",
        "            policy_model=policy_model,\n",
        "            reference_model=reference_model,\n",
        "            beta=beta,\n",
        "            num_batches=eval_iter\n",
        "        )\n",
        "\n",
        "        val_loss, val_chosen_rewards, val_rejected_rewards = compute_dpo_loss_loader(\n",
        "            data_loader=val_loader,\n",
        "            policy_model=policy_model,\n",
        "            reference_model=reference_model,\n",
        "            beta=beta,\n",
        "            num_batches=eval_iter\n",
        "        )\n",
        "\n",
        "    result = {\n",
        "        \"train_loss\": train_loss,\n",
        "        \"train_chosen_reward\": train_chosen_rewards,\n",
        "        \"train_rejected_reward\": train_rejected_rewards,\n",
        "        \"val_loss\": val_loss,\n",
        "        \"val_chosen_reward\": val_chosen_rewards,\n",
        "        \"val_rejected_reward\": val_rejected_rewards\n",
        "    }\n",
        "\n",
        "    policy_model.train()\n",
        "    return result"
      ],
      "metadata": {
        "id": "T2lFIeY_gdFQ"
      },
      "execution_count": 51,
      "outputs": []
    },
    {
      "cell_type": "markdown",
      "source": [
        "- Before we start the training, let's print the initial losses and rewards."
      ],
      "metadata": {
        "id": "I35OHPh4r9JW"
      }
    },
    {
      "cell_type": "code",
      "source": [
        "torch.manual_seed(123)\n",
        "\n",
        "result = evaluate_dpo_loss_loader(\n",
        "    policy_model=policy_model,\n",
        "    reference_model=reference_model,\n",
        "    train_loader=train_loader,\n",
        "    val_loader=val_loader,\n",
        "    beta=0.1,\n",
        "    eval_iter=5\n",
        ")\n",
        "\n",
        "print(\"Training loss:\", result[\"train_loss\"])\n",
        "print(\"Validation loss:\", result[\"val_loss\"])\n",
        "\n",
        "print(\"Train reward margin:\", result[\"train_chosen_reward\"] - result[\"train_rejected_reward\"])\n",
        "print(\"Val reward margin:\", result[\"val_chosen_reward\"] - result[\"val_rejected_reward\"])"
      ],
      "metadata": {
        "colab": {
          "base_uri": "https://localhost:8080/"
        },
        "id": "LshaeQCvoQ1Y",
        "outputId": "50765196-8913-4deb-86dc-11b4ae6855f2"
      },
      "execution_count": 52,
      "outputs": [
        {
          "output_type": "stream",
          "name": "stdout",
          "text": [
            "Training loss: 0.6931471824645996\n",
            "Validation loss: 0.6931471824645996\n",
            "Train reward margin: 0.0\n",
            "Val reward margin: 0.0\n"
          ]
        }
      ]
    },
    {
      "cell_type": "markdown",
      "source": [
        "- Also, let's take a look at some of the initial model_responses (the first 3 examples in the validation set)."
      ],
      "metadata": {
        "id": "jRgKvdk8osPn"
      }
    },
    {
      "cell_type": "code",
      "source": [
        "torch.manual_seed(123)\n",
        "\n",
        "\n",
        "for entry in val_data[:3]:\n",
        "\n",
        "    input_text = format_input(entry)\n",
        "\n",
        "    token_ids = generate(\n",
        "        model=model,\n",
        "        idx=text_to_token_ids(input_text, tokenizer).to(device),\n",
        "        max_new_tokens=256,\n",
        "        context_size=BASE_CONFIG[\"context_length\"],\n",
        "        eos_id=50256\n",
        "    )\n",
        "    generated_text = token_ids_to_text(token_ids, tokenizer)\n",
        "    response_text = (\n",
        "        generated_text[len(input_text):]\n",
        "        .replace(\"### Response:\", \"\")\n",
        "        .strip()\n",
        ")\n",
        "\n",
        "    print(input_text)\n",
        "    print(f\"\\nCorrect response:\\n>> {entry['output']}\")\n",
        "    print(f\"\\nModel response:\\n>> {response_text.strip()}\")\n",
        "    print(\"\\n-------------------------------------\\n\")"
      ],
      "metadata": {
        "colab": {
          "base_uri": "https://localhost:8080/"
        },
        "id": "Pcfg2ds4o2es",
        "outputId": "20122c81-8856-429a-acb9-d3ada127d7f4"
      },
      "execution_count": 53,
      "outputs": [
        {
          "output_type": "stream",
          "name": "stdout",
          "text": [
            "Below is an instruction that describes a task. Write a response that appropriately completes the request.\n",
            "\n",
            "### Instruction:\n",
            "Convert the active sentence to passive: 'The chef cooks the meal every day.'\n",
            "\n",
            "Correct response:\n",
            ">> The meal is cooked by the chef every day.\n",
            "\n",
            "Model response:\n",
            ">> The meal is cooked every day by the chef.\n",
            "\n",
            "-------------------------------------\n",
            "\n",
            "Below is an instruction that describes a task. Write a response that appropriately completes the request.\n",
            "\n",
            "### Instruction:\n",
            "Classify an input string as either a noun or a verb.\n",
            "\n",
            "### Input:\n",
            "Dance\n",
            "\n",
            "Correct response:\n",
            ">> 'Dance' can be classified as a verb.\n",
            "\n",
            "Model response:\n",
            ">> Dance is a verb.\n",
            "\n",
            "-------------------------------------\n",
            "\n",
            "Below is an instruction that describes a task. Write a response that appropriately completes the request.\n",
            "\n",
            "### Instruction:\n",
            "Rewrite the sentence using a metaphor.\n",
            "\n",
            "### Input:\n",
            "The book is very interesting.\n",
            "\n",
            "Correct response:\n",
            ">> The book is a page-turner.\n",
            "\n",
            "Model response:\n",
            ">> The book is like a treasure.\n",
            "\n",
            "-------------------------------------\n",
            "\n"
          ]
        }
      ]
    },
    {
      "cell_type": "markdown",
      "source": [
        "- Above, we see the original model responses.\n",
        "- Note that the goal of DPO is to induce slight style changes. This means we want the model to generate similar but slightly more polite responses."
      ],
      "metadata": {
        "id": "4nN4KwAQS1N8"
      }
    },
    {
      "cell_type": "markdown",
      "source": [
        "## **Training the model**\n",
        "\n",
        "- After setting up the DPO loss functions in the previous section, we can now finally train the model.\n",
        "- Note that this training function is the same one we used for pretraining and instruction finetuning, with minor differences:\n",
        "  - We swap the cross-entropy loss with our new DPO loss function.\n",
        "  - We also track the rewards and reward margins, which are comonly used in RLHF and DPO contexts to track the training progress.\n"
      ],
      "metadata": {
        "id": "3GTwzeDBiHXU"
      }
    },
    {
      "cell_type": "code",
      "source": [
        "def generate_text_simple(model, idx, max_new_tokens, context_size):\n",
        "    # idx is (batch, n_tokens) array of indices in the current context\n",
        "    for _ in range(max_new_tokens):\n",
        "\n",
        "        # Crop current context if it exceeds the supported context size\n",
        "        # E.g., if LLM supports only 5 tokens, and the context size is 10\n",
        "        # then only the last 5 tokens are used as context\n",
        "        idx_cond = idx[:, -context_size:]\n",
        "\n",
        "        # Get the predictions\n",
        "        with torch.no_grad():\n",
        "            logits = model(idx_cond)\n",
        "\n",
        "        # Focus only on the last time step\n",
        "        # (batch, n_tokens, vocab_size) becomes (batch, vocab_size)\n",
        "        logits = logits[:, -1, :]\n",
        "\n",
        "        # Apply softmax to get probabilities\n",
        "        probas = torch.softmax(logits, dim=-1)  # (batch, vocab_size)\n",
        "\n",
        "        # Get the idx of the vocab entry with the highest probability value\n",
        "        idx_next = torch.argmax(probas, dim=-1, keepdim=True)  # (batch, 1)\n",
        "\n",
        "        # Append sampled index to the running sequence\n",
        "        idx = torch.cat((idx, idx_next), dim=1)  # (batch, n_tokens+1)\n",
        "\n",
        "    return idx\n",
        "\n",
        "\n",
        "def generate_and_print_sample(model, tokenizer, device, start_context):\n",
        "    model.eval()\n",
        "    context_size = model.pos_emb.weight.shape[0]\n",
        "    encoded = text_to_token_ids(start_context, tokenizer).to(device)\n",
        "    with torch.no_grad():\n",
        "        token_ids = generate_text_simple(\n",
        "            model=model,\n",
        "            idx=encoded,\n",
        "            max_new_tokens=50,\n",
        "            context_size=context_size\n",
        "        )\n",
        "    decoded_text = token_ids_to_text(token_ids, tokenizer)\n",
        "    print(decoded_text.replace(\"\\n\", \" \"))  # Compact print format\n",
        "    model.train()"
      ],
      "metadata": {
        "id": "bJqiVY8iiKgj"
      },
      "execution_count": 54,
      "outputs": []
    },
    {
      "cell_type": "code",
      "source": [
        "def train_model_dpo_simple(\n",
        "    policy_model,\n",
        "    reference_model,\n",
        "    train_loader,\n",
        "    val_loader,\n",
        "    optimizer,\n",
        "    num_epochs,\n",
        "    beta,\n",
        "    eval_freq,\n",
        "    eval_iter,\n",
        "    start_context,\n",
        "    tokenizer\n",
        "):\n",
        "    tracking = {\n",
        "        \"train_losses\": [],\n",
        "        \"train_chosen_rewards\": [],\n",
        "        \"train_rejected_rewards\": [],\n",
        "        \"val_losses\": [],\n",
        "        \"val_chosen_rewards\": [],\n",
        "        \"val_rejected_rewards\": [],\n",
        "        \"tokens_seen\": []\n",
        "    }\n",
        "    tokens_seen, global_step = 0, -1\n",
        "\n",
        "    # Main training loop\n",
        "    for epoch in range(num_epochs):\n",
        "        policy_model.train()  # Set model to training mode\n",
        "\n",
        "        for batch in train_loader:\n",
        "\n",
        "            optimizer.zero_grad()  # Reset loss gradients from previous batch iteration\n",
        "\n",
        "            loss, chosen_rewards, rejected_rewards = compute_dpo_loss_batch(\n",
        "                batch=batch,\n",
        "                policy_model=policy_model,\n",
        "                reference_model=reference_model,\n",
        "                beta=beta\n",
        "            )\n",
        "\n",
        "            loss.backward()  # Calculate loss gradients\n",
        "            optimizer.step()  # Update model weights using loss gradients\n",
        "\n",
        "            tokens_seen += batch[\"chosen\"].numel()\n",
        "            global_step += 1\n",
        "\n",
        "            # Optional evaluation step\n",
        "            if global_step % eval_freq == 0:\n",
        "                res = evaluate_dpo_loss_loader(\n",
        "                    policy_model=policy_model,\n",
        "                    reference_model=reference_model,\n",
        "                    train_loader=train_loader,\n",
        "                    val_loader=val_loader,\n",
        "                    beta=beta,\n",
        "                    eval_iter=eval_iter\n",
        "                )\n",
        "                tracking[\"train_losses\"].append(res[\"train_loss\"])\n",
        "                tracking[\"train_chosen_rewards\"].append(res[\"train_chosen_reward\"])\n",
        "                tracking[\"train_rejected_rewards\"].append(res[\"train_rejected_reward\"])\n",
        "                tracking[\"val_losses\"].append(res[\"val_loss\"])\n",
        "                tracking[\"val_chosen_rewards\"].append(res[\"val_chosen_reward\"])\n",
        "                tracking[\"val_rejected_rewards\"].append(res[\"val_rejected_reward\"])\n",
        "                tracking[\"tokens_seen\"].append(tokens_seen)\n",
        "                train_reward_margin = res[\"train_chosen_reward\"] - res[\"train_rejected_reward\"]\n",
        "                val_reward_margin = res[\"val_chosen_reward\"] - res[\"val_rejected_reward\"]\n",
        "\n",
        "                print(\n",
        "                    f\"Ep {epoch+1} (Step {global_step:06d}): \"\n",
        "                    f\"Train loss {res['train_loss']:.3f}, Val loss {res['val_loss']:.3f}, \"\n",
        "                    f\"Train reward margins {train_reward_margin:.3f}, \"\n",
        "                    f\"Val reward margins {val_reward_margin:.3f}\"\n",
        "                )\n",
        "\n",
        "        # Print a sample text after each epoch\n",
        "        generate_and_print_sample(\n",
        "            model=model,\n",
        "            tokenizer=tokenizer,\n",
        "            device=loss.device,\n",
        "            start_context=start_context\n",
        "        )\n",
        "\n",
        "    return tracking"
      ],
      "metadata": {
        "id": "ddAbbhP-kDM2"
      },
      "execution_count": 55,
      "outputs": []
    },
    {
      "cell_type": "markdown",
      "source": [
        "- Before we execute the following code cell that starts the training, here are a few notes about some of the settings:\n",
        "  - We are only passing the parameters of the `policy model` into the `AdamW` optimizer; that's the model we want to optimize (we don't want to modify the `reference model`).\n",
        "  - We only train for 1 epoch; that's because DPO is very prone to collapse (the loss might improve, but the model will start generating nonsensical texts).\n",
        "  - In DPO, it's best to use a very small learning rate.\n",
        "  - The beta value can be increased from 0.1 to 0.5 to reduce the effect of DPO (we use 0.1 here to make the results more noticeable)."
      ],
      "metadata": {
        "id": "J39nrCnNoDBp"
      }
    },
    {
      "cell_type": "code",
      "source": [
        "import time\n",
        "\n",
        "start_time = time.time()\n",
        "torch.manual_seed(123)\n",
        "\n",
        "optimizer = torch.optim.AdamW(policy_model.parameters(), lr=5e-6, weight_decay=0.01)\n",
        "\n",
        "num_epochs = 1\n",
        "tracking = train_model_dpo_simple(\n",
        "    policy_model=policy_model,\n",
        "    reference_model=reference_model,\n",
        "    train_loader=train_loader,\n",
        "    val_loader=val_loader,\n",
        "    optimizer=optimizer,\n",
        "    num_epochs=num_epochs,\n",
        "    beta=0.1, # value between 0.1 and 0.5\n",
        "    eval_freq=5,\n",
        "    eval_iter=5,\n",
        "    start_context=format_input(val_data[2]),\n",
        "    tokenizer=tokenizer\n",
        ")\n",
        "\n",
        "end_time = time.time()\n",
        "execution_time_minutes = (end_time - start_time) / 60\n",
        "print(f\"Training completed in {execution_time_minutes:.2f} minutes.\")"
      ],
      "metadata": {
        "colab": {
          "base_uri": "https://localhost:8080/"
        },
        "id": "xZHd7k6RWZjD",
        "outputId": "3d4c3eb1-afce-4c9b-a875-2cc5c6c1990a"
      },
      "execution_count": 56,
      "outputs": [
        {
          "output_type": "stream",
          "name": "stdout",
          "text": [
            "Ep 1 (Step 000000): Train loss 0.692, Val loss 0.693, Train reward margins 0.013, Val reward margins 0.006\n",
            "Ep 1 (Step 000005): Train loss 0.691, Val loss 0.692, Train reward margins 0.046, Val reward margins 0.031\n",
            "Ep 1 (Step 000010): Train loss 0.687, Val loss 0.690, Train reward margins 0.118, Val reward margins 0.058\n",
            "Ep 1 (Step 000015): Train loss 0.681, Val loss 0.688, Train reward margins 0.245, Val reward margins 0.100\n",
            "Ep 1 (Step 000020): Train loss 0.681, Val loss 0.685, Train reward margins 0.255, Val reward margins 0.163\n",
            "Ep 1 (Step 000025): Train loss 0.672, Val loss 0.681, Train reward margins 0.435, Val reward margins 0.253\n",
            "Ep 1 (Step 000030): Train loss 0.676, Val loss 0.675, Train reward margins 0.362, Val reward margins 0.375\n",
            "Ep 1 (Step 000035): Train loss 0.668, Val loss 0.671, Train reward margins 0.542, Val reward margins 0.460\n",
            "Ep 1 (Step 000040): Train loss 0.674, Val loss 0.668, Train reward margins 0.422, Val reward margins 0.542\n",
            "Ep 1 (Step 000045): Train loss 0.651, Val loss 0.661, Train reward margins 0.924, Val reward margins 0.689\n",
            "Ep 1 (Step 000050): Train loss 0.659, Val loss 0.656, Train reward margins 0.773, Val reward margins 0.819\n",
            "Ep 1 (Step 000055): Train loss 0.644, Val loss 0.652, Train reward margins 1.088, Val reward margins 0.909\n",
            "Ep 1 (Step 000060): Train loss 0.654, Val loss 0.648, Train reward margins 0.882, Val reward margins 1.001\n",
            "Ep 1 (Step 000065): Train loss 0.627, Val loss 0.645, Train reward margins 1.489, Val reward margins 1.085\n",
            "Ep 1 (Step 000070): Train loss 0.614, Val loss 0.640, Train reward margins 1.823, Val reward margins 1.187\n",
            "Ep 1 (Step 000075): Train loss 0.611, Val loss 0.637, Train reward margins 1.917, Val reward margins 1.276\n",
            "Ep 1 (Step 000080): Train loss 0.584, Val loss 0.634, Train reward margins 2.569, Val reward margins 1.353\n",
            "Ep 1 (Step 000085): Train loss 0.606, Val loss 0.630, Train reward margins 2.039, Val reward margins 1.448\n",
            "Ep 1 (Step 000090): Train loss 0.647, Val loss 0.626, Train reward margins 1.063, Val reward margins 1.537\n",
            "Ep 1 (Step 000095): Train loss 0.594, Val loss 0.624, Train reward margins 2.310, Val reward margins 1.599\n",
            "Ep 1 (Step 000100): Train loss 0.587, Val loss 0.621, Train reward margins 2.503, Val reward margins 1.667\n",
            "Ep 1 (Step 000105): Train loss 0.574, Val loss 0.619, Train reward margins 2.909, Val reward margins 1.727\n",
            "Ep 1 (Step 000110): Train loss 0.597, Val loss 0.616, Train reward margins 2.278, Val reward margins 1.818\n",
            "Ep 1 (Step 000115): Train loss 0.606, Val loss 0.612, Train reward margins 1.998, Val reward margins 1.899\n",
            "Below is an instruction that describes a task. Write a response that appropriately completes the request.  ### Instruction: Rewrite the sentence using a metaphor.  ### Input: The book is very interesting.  ### Response: The book is interesting.<|endoftext|>The following is an instruction that describes a task. Write a response that appropriately completes the request.  ### Instruction: What is the capital of the United Kingdom?  ### Response\n",
            "Training completed in 5.84 minutes.\n"
          ]
        }
      ]
    },
    {
      "cell_type": "markdown",
      "source": [
        "## **Analyzing the results**\n",
        "\n",
        "- Let's begin analyzing the results by plotting the DPO loss."
      ],
      "metadata": {
        "id": "L8rTAG4CXqS1"
      }
    },
    {
      "cell_type": "code",
      "source": [
        "import matplotlib.pyplot as plt\n",
        "from matplotlib.ticker import MaxNLocator\n",
        "\n",
        "\n",
        "def plot_losses(epochs_seen, tokens_seen, train_losses, val_losses):\n",
        "    fig, ax1 = plt.subplots(figsize=(5, 3))\n",
        "\n",
        "    # Plot training and validation loss against epochs\n",
        "    ax1.plot(epochs_seen, train_losses, label=\"Training loss\")\n",
        "    ax1.plot(epochs_seen, val_losses, linestyle=\"-.\", label=\"Validation loss\")\n",
        "    ax1.set_xlabel(\"Epochs\")\n",
        "    ax1.set_ylabel(\"Loss\")\n",
        "    ax1.legend(loc=\"upper right\")\n",
        "    ax1.xaxis.set_major_locator(MaxNLocator(integer=True))  # only show integer labels on x-axis\n",
        "\n",
        "    # Create a second x-axis for tokens seen\n",
        "    ax2 = ax1.twiny()  # Create a second x-axis that shares the same y-axis\n",
        "    ax2.plot(tokens_seen, train_losses, alpha=0)  # Invisible plot for aligning ticks\n",
        "    ax2.set_xlabel(\"Tokens seen\")\n",
        "\n",
        "    fig.tight_layout()  # Adjust layout to make room\n",
        "    #plt.savefig(\"loss-plot.pdf\")\n",
        "    plt.show()"
      ],
      "metadata": {
        "id": "z7Av3zl1XvRg"
      },
      "execution_count": 57,
      "outputs": []
    },
    {
      "cell_type": "code",
      "source": [
        "epochs_tensor = torch.linspace(0, num_epochs, len(tracking[\"train_losses\"]))\n",
        "\n",
        "plot_losses(\n",
        "    epochs_seen=epochs_tensor,\n",
        "    tokens_seen=tracking[\"tokens_seen\"],\n",
        "    train_losses=tracking[\"train_losses\"],\n",
        "    val_losses=tracking[\"val_losses\"],\n",
        "    # label=\"loss\"\n",
        ")"
      ],
      "metadata": {
        "colab": {
          "base_uri": "https://localhost:8080/",
          "height": 307
        },
        "id": "iCd0aPFAX-Yq",
        "outputId": "a642cf33-3190-47f1-81a4-ca5389c49af4"
      },
      "execution_count": 58,
      "outputs": [
        {
          "output_type": "display_data",
          "data": {
            "text/plain": [
              "<Figure size 500x300 with 2 Axes>"
            ],
            "image/png": "[encoded data removed]"
          },
          "metadata": {}
        }
      ]
    },
    {
      "cell_type": "markdown",
      "source": [
        "- As we can see above, the loss continues to improve, which is a good sign.\n",
        "- Based on the downward slope, one might be tempted to train the model a bit further (and readers are encouraged to try this), but note that DPO is prone to collapse, where the model may start generating nonsensical responses."
      ],
      "metadata": {
        "id": "pxlvubjRcV_R"
      }
    },
    {
      "cell_type": "markdown",
      "source": [
        "- Next, let's take a look at the reward margins."
      ],
      "metadata": {
        "id": "QOJfBa-acstl"
      }
    },
    {
      "cell_type": "code",
      "source": [
        "train_reward_margins = [i-j for i,j in zip(tracking[\"train_chosen_rewards\"], tracking[\"train_rejected_rewards\"])]\n",
        "val_reward_margins = [i-j for i,j in zip(tracking[\"val_chosen_rewards\"], tracking[\"val_rejected_rewards\"])]\n",
        "\n",
        "plot_losses(\n",
        "    epochs_seen=epochs_tensor,\n",
        "    tokens_seen=tracking[\"tokens_seen\"],\n",
        "    train_losses=train_reward_margins,\n",
        "    val_losses=val_reward_margins,\n",
        "    # label=\"reward margins\"\n",
        ")"
      ],
      "metadata": {
        "colab": {
          "base_uri": "https://localhost:8080/",
          "height": 307
        },
        "id": "yPFFX8bCY0GG",
        "outputId": "616aff7f-9c73-4bbb-de0c-efaf3fc15a8d"
      },
      "execution_count": 59,
      "outputs": [
        {
          "output_type": "display_data",
          "data": {
            "text/plain": [
              "<Figure size 500x300 with 2 Axes>"
            ],
            "image/png": "[encoded data removed]"
          },
          "metadata": {}
        }
      ]
    },
    {
      "cell_type": "markdown",
      "source": [
        "- As we can see, and as it's desired, the reward margins improve, this mirrors the loss curve and is a good sign.\n",
        "- Note that DPO losses and reward margins are valuable metrics to track during training; however, they don't tell the whole story."
      ],
      "metadata": {
        "id": "eMSSihvpczBG"
      }
    },
    {
      "cell_type": "markdown",
      "source": [
        "- Lastly, and most importly, we have to conduct a qualitative check of the responses.\n",
        "- Here, we will look at the response."
      ],
      "metadata": {
        "id": "H2APgxFsdmBn"
      }
    },
    {
      "cell_type": "code",
      "source": [
        "torch.manual_seed(123)\n",
        "\n",
        "for entry in val_data[:3]:\n",
        "    input_text = format_input(entry)\n",
        "\n",
        "    token_ids = generate(\n",
        "        model=reference_model,\n",
        "        idx=text_to_token_ids(input_text, tokenizer).to(device),\n",
        "        max_new_tokens=256,\n",
        "        context_size=BASE_CONFIG[\"context_length\"],\n",
        "        eos_id=50256\n",
        "    )\n",
        "    generated_text=token_ids_to_text(token_ids, tokenizer)\n",
        "    reference_response_text = (\n",
        "        generated_text[len(input_text):]\n",
        "        .replace(\"### Response:\", \"\")\n",
        "        .strip()\n",
        "    )\n",
        "\n",
        "    token_ids = generate(\n",
        "        model=policy_model,\n",
        "        idx=text_to_token_ids(input_text, tokenizer).to(device),\n",
        "        max_new_tokens=256,\n",
        "        context_size=BASE_CONFIG[\"context_length\"],\n",
        "        eos_id=50256\n",
        "    )\n",
        "    generated_text=token_ids_to_text(token_ids, tokenizer)\n",
        "    policy_response_text = (\n",
        "        generated_text[len(input_text):]\n",
        "        .replace(\"### Response:\", \"\")\n",
        "        .strip()\n",
        "    )\n",
        "\n",
        "    print(input_text)\n",
        "    print(f\"\\nCorrect response:\\n>> {entry['output']}\")\n",
        "    print(f\"\\nReference model response:\\n>> {reference_response_text.strip()}\")\n",
        "    print(f\"\\nPolicy model response:\\n>> {policy_response_text.strip()}\")\n",
        "    print(\"\\n----------------------------------------------------------\\n\")"
      ],
      "metadata": {
        "colab": {
          "base_uri": "https://localhost:8080/"
        },
        "id": "N69eNJKtdyUs",
        "outputId": "c3526276-e04a-4c9c-c21d-b613916e7c18"
      },
      "execution_count": 60,
      "outputs": [
        {
          "output_type": "stream",
          "name": "stdout",
          "text": [
            "Below is an instruction that describes a task. Write a response that appropriately completes the request.\n",
            "\n",
            "### Instruction:\n",
            "Convert the active sentence to passive: 'The chef cooks the meal every day.'\n",
            "\n",
            "Correct response:\n",
            ">> The meal is cooked by the chef every day.\n",
            "\n",
            "Reference model response:\n",
            ">> The meal is cooked every day by the chef.\n",
            "\n",
            "Policy model response:\n",
            ">> The meal was prepared by the chef.\n",
            "\n",
            "----------------------------------------------------------\n",
            "\n",
            "Below is an instruction that describes a task. Write a response that appropriately completes the request.\n",
            "\n",
            "### Instruction:\n",
            "Classify an input string as either a noun or a verb.\n",
            "\n",
            "### Input:\n",
            "Dance\n",
            "\n",
            "Correct response:\n",
            ">> 'Dance' can be classified as a verb.\n",
            "\n",
            "Reference model response:\n",
            ">> Dance is a verb.\n",
            "\n",
            "Policy model response:\n",
            ">> The input 'Dance' could be classified as a verb.\n",
            "\n",
            "----------------------------------------------------------\n",
            "\n",
            "Below is an instruction that describes a task. Write a response that appropriately completes the request.\n",
            "\n",
            "### Instruction:\n",
            "Rewrite the sentence using a metaphor.\n",
            "\n",
            "### Input:\n",
            "The book is very interesting.\n",
            "\n",
            "Correct response:\n",
            ">> The book is a page-turner.\n",
            "\n",
            "Reference model response:\n",
            ">> The book is like a treasure.\n",
            "\n",
            "Policy model response:\n",
            ">> The book is interesting.\n",
            "\n",
            "----------------------------------------------------------\n",
            "\n"
          ]
        }
      ]
    },
    {
      "cell_type": "code",
      "source": [
        "torch.manual_seed(123)\n",
        "\n",
        "\n",
        "for entry in test_data[:3]:\n",
        "\n",
        "    input_text = format_input(entry)\n",
        "\n",
        "    token_ids = generate(\n",
        "        model=reference_model,\n",
        "        idx=text_to_token_ids(input_text, tokenizer).to(device),\n",
        "        max_new_tokens=256,\n",
        "        context_size=BASE_CONFIG[\"context_length\"],\n",
        "        eos_id=50256\n",
        "    )\n",
        "    generated_text = token_ids_to_text(token_ids, tokenizer)\n",
        "    reference_response_text = (\n",
        "        generated_text[len(input_text):]\n",
        "        .replace(\"### Response:\", \"\")\n",
        "        .strip()\n",
        "    )\n",
        "\n",
        "    token_ids = generate(\n",
        "        model=policy_model,\n",
        "        idx=text_to_token_ids(input_text, tokenizer).to(device),\n",
        "        max_new_tokens=256,\n",
        "        context_size=BASE_CONFIG[\"context_length\"],\n",
        "        eos_id=50256\n",
        "    )\n",
        "    generated_text = token_ids_to_text(token_ids, tokenizer)\n",
        "    policy_response_text = (\n",
        "        generated_text[len(input_text):]\n",
        "        .replace(\"### Response:\", \"\")\n",
        "        .strip()\n",
        "    )\n",
        "\n",
        "    print(input_text)\n",
        "    print(f\"\\nCorrect response:\\n>> {entry['output']}\")\n",
        "    print(f\"\\nReference model response:\\n>> {reference_response_text.strip()}\")\n",
        "    print(f\"\\nPolicy model response:\\n>> {policy_response_text.strip()}\")\n",
        "    print(\"\\n-------------------------------------\\n\")"
      ],
      "metadata": {
        "colab": {
          "base_uri": "https://localhost:8080/"
        },
        "id": "OBLAA3yLmYuT",
        "outputId": "73ec12d3-29c9-4a73-d8ed-7a367ee9838c"
      },
      "execution_count": 61,
      "outputs": [
        {
          "output_type": "stream",
          "name": "stdout",
          "text": [
            "Below is an instruction that describes a task. Write a response that appropriately completes the request.\n",
            "\n",
            "### Instruction:\n",
            "Rewrite the sentence using a simile.\n",
            "\n",
            "### Input:\n",
            "The car is very fast.\n",
            "\n",
            "Correct response:\n",
            ">> The car is as fast as lightning.\n",
            "\n",
            "Reference model response:\n",
            ">> The car is as fast as a bullet.\n",
            "\n",
            "Policy model response:\n",
            ">> The car was as fast as an elephant.\n",
            "\n",
            "-------------------------------------\n",
            "\n",
            "Below is an instruction that describes a task. Write a response that appropriately completes the request.\n",
            "\n",
            "### Instruction:\n",
            "What type of cloud is typically associated with thunderstorms?\n",
            "\n",
            "Correct response:\n",
            ">> The type of cloud typically associated with thunderstorms is cumulonimbus.\n",
            "\n",
            "Reference model response:\n",
            ">> The type of cloud associated with thunderstorms is a cumulus cloud.\n",
            "\n",
            "Policy model response:\n",
            ">> The type of cloud typically associated with thunderstorms is a cumulus.\n",
            "\n",
            "-------------------------------------\n",
            "\n",
            "Below is an instruction that describes a task. Write a response that appropriately completes the request.\n",
            "\n",
            "### Instruction:\n",
            "Name the author of 'Pride and Prejudice'.\n",
            "\n",
            "Correct response:\n",
            ">> Jane Austen.\n",
            "\n",
            "Reference model response:\n",
            ">> The author of 'Pride and Prejudice' is Jane Austen.\n",
            "\n",
            "Policy model response:\n",
            ">> The author of 'Pride and Prejudice' is Jane Austen.\n",
            "\n",
            "-------------------------------------\n",
            "\n"
          ]
        }
      ]
    }
  ]
}